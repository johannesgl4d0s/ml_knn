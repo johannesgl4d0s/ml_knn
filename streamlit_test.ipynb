{
 "cells": [
  {
   "cell_type": "code",
   "execution_count": 16,
   "metadata": {
    "collapsed": true,
    "ExecuteTime": {
     "end_time": "2023-05-21T12:03:32.255810800Z",
     "start_time": "2023-05-21T12:03:32.180927700Z"
    }
   },
   "outputs": [],
   "source": [
    "import pandas as pd\n",
    "import numpy as np\n",
    "from sklearn.preprocessing import StandardScaler\n",
    "from sklearn.neighbors import KNeighborsClassifier\n",
    "from sklearn.model_selection import train_test_split\n",
    "import pickle\n",
    "from sklearn.cluster import KMeans\n",
    "import matplotlib.pyplot as plt"
   ]
  },
  {
   "cell_type": "code",
   "execution_count": 2,
   "outputs": [],
   "source": [
    "knn = pickle.load(open('knn_pickle_file', 'rb'))"
   ],
   "metadata": {
    "collapsed": false,
    "ExecuteTime": {
     "end_time": "2023-05-21T11:56:15.430121100Z",
     "start_time": "2023-05-21T11:56:15.402478800Z"
    }
   }
  },
  {
   "cell_type": "code",
   "execution_count": 3,
   "outputs": [
    {
     "data": {
      "text/plain": "DeltaGenerator()"
     },
     "execution_count": 3,
     "metadata": {},
     "output_type": "execute_result"
    }
   ],
   "source": [
    "st.title('Hi')"
   ],
   "metadata": {
    "collapsed": false
   }
  },
  {
   "cell_type": "code",
   "execution_count": null,
   "outputs": [],
   "source": [],
   "metadata": {
    "collapsed": false
   }
  },
  {
   "cell_type": "code",
   "execution_count": 29,
   "outputs": [],
   "source": [
    "def load_and_transform_df():\n",
    "    data = pd.read_csv('Joined.csv')\n",
    "    data2 = data[['acousticness', 'danceability', 'energy', 'instrumentalness','liveness','popularity','speechiness','tempo','valence','name']]\n",
    "    scaler = StandardScaler()\n",
    "    scaler.fit(data2.drop('name', axis=1))\n",
    "    scaled_features = scaler.transform(data2.drop('name',axis=1))\n",
    "    scaled_features = pd.DataFrame(scaled_features)\n",
    "    scaled_features['name'] = data2['name']\n",
    "    scaled_features.columns = data2.columns\n",
    "    return scaled_features\n",
    "scaled_features = load_and_transform_df()"
   ],
   "metadata": {
    "collapsed": false,
    "ExecuteTime": {
     "end_time": "2023-05-21T12:17:47.490121900Z",
     "start_time": "2023-05-21T12:17:45.907809100Z"
    }
   }
  },
  {
   "cell_type": "code",
   "execution_count": 30,
   "outputs": [],
   "source": [
    "playlist =scaled_features['name']\n",
    "\n",
    "choice = st.sidebar.selectbox('Select your vehicle:', playlist)"
   ],
   "metadata": {
    "collapsed": false,
    "ExecuteTime": {
     "end_time": "2023-05-21T12:17:48.429440600Z",
     "start_time": "2023-05-21T12:17:48.380638900Z"
    }
   }
  },
  {
   "cell_type": "code",
   "execution_count": 7,
   "outputs": [],
   "source": [
    "df = data[data.playlist == choice]"
   ],
   "metadata": {
    "collapsed": false,
    "ExecuteTime": {
     "end_time": "2023-05-21T11:57:29.005645400Z",
     "start_time": "2023-05-21T11:57:28.993333500Z"
    }
   }
  },
  {
   "cell_type": "code",
   "execution_count": 8,
   "outputs": [
    {
     "data": {
      "text/plain": "DeltaGenerator()"
     },
     "execution_count": 8,
     "metadata": {},
     "output_type": "execute_result"
    }
   ],
   "source": [
    "st.table(df)"
   ],
   "metadata": {
    "collapsed": false,
    "ExecuteTime": {
     "end_time": "2023-05-21T11:57:29.702700200Z",
     "start_time": "2023-05-21T11:57:29.687052700Z"
    }
   }
  },
  {
   "cell_type": "code",
   "execution_count": 9,
   "outputs": [
    {
     "data": {
      "text/plain": "0                 Storytime Classics, Vol. 2\n1                              Creature Kind\n2                                 Cola Falls\n3        Charles Dickens - The Short Stories\n4                                Donde Estas\n                        ...                 \n53242                                BIZNESS\n53243                       A Song Is A City\n53244                                   Unit\n53245                             Freak Show\n53246                         The Cat Empire\nName: name, Length: 53247, dtype: object"
     },
     "execution_count": 9,
     "metadata": {},
     "output_type": "execute_result"
    }
   ],
   "source": [
    "a = data['name']\n",
    "a"
   ],
   "metadata": {
    "collapsed": false,
    "ExecuteTime": {
     "end_time": "2023-05-21T11:57:30.214622800Z",
     "start_time": "2023-05-21T11:57:30.198969Z"
    }
   }
  },
  {
   "cell_type": "code",
   "execution_count": 10,
   "outputs": [],
   "source": [
    "name = a[20000]"
   ],
   "metadata": {
    "collapsed": false,
    "ExecuteTime": {
     "end_time": "2023-05-21T11:57:31.397908700Z",
     "start_time": "2023-05-21T11:57:31.382287700Z"
    }
   }
  },
  {
   "cell_type": "code",
   "execution_count": 15,
   "outputs": [
    {
     "data": {
      "text/plain": "       acousticness  danceability  energy  instrumentalness  liveness  \\\n0          0.863000         0.719   0.308          0.000000    0.2530   \n1          0.101000         0.748   0.666          0.000653    0.0976   \n2          0.191000         0.608   0.664          0.042700    0.1200   \n3          0.678000         0.679   0.247          0.000001    0.1790   \n4          0.078600         0.470   0.828          0.000000    0.1780   \n...             ...           ...     ...               ...       ...   \n53242      0.035500         0.782   0.665          0.000180    0.3670   \n53243      0.100000         0.587   0.786          0.000032    0.0808   \n53244      0.005640         0.602   0.904          0.000000    0.0875   \n53245      0.000406         0.177   0.823          0.005370    0.2420   \n53246      0.333000         0.716   0.748          0.000007    0.0899   \n\n       popularity  speechiness    tempo  valence  \\\n0            31.0       0.9220  115.075    0.589   \n1            47.0       0.0833  114.982    0.359   \n2            35.0       0.0435  100.011    0.513   \n3             7.0       0.9240  100.846    0.397   \n4            55.0       0.0700   96.149    0.856   \n...           ...          ...      ...      ...   \n53242         7.0       0.3770  120.009    0.366   \n53243        53.0       0.0308  129.880    0.486   \n53244        41.0       0.0327  130.186    0.787   \n53245        44.0       0.0604  184.260    0.363   \n53246        55.0       0.1510  110.015    0.760   \n\n                                      name  \n0               Storytime Classics, Vol. 2  \n1                            Creature Kind  \n2                               Cola Falls  \n3      Charles Dickens - The Short Stories  \n4                              Donde Estas  \n...                                    ...  \n53242                              BIZNESS  \n53243                     A Song Is A City  \n53244                                 Unit  \n53245                           Freak Show  \n53246                       The Cat Empire  \n\n[53247 rows x 10 columns]",
      "text/html": "<div>\n<style scoped>\n    .dataframe tbody tr th:only-of-type {\n        vertical-align: middle;\n    }\n\n    .dataframe tbody tr th {\n        vertical-align: top;\n    }\n\n    .dataframe thead th {\n        text-align: right;\n    }\n</style>\n<table border=\"1\" class=\"dataframe\">\n  <thead>\n    <tr style=\"text-align: right;\">\n      <th></th>\n      <th>acousticness</th>\n      <th>danceability</th>\n      <th>energy</th>\n      <th>instrumentalness</th>\n      <th>liveness</th>\n      <th>popularity</th>\n      <th>speechiness</th>\n      <th>tempo</th>\n      <th>valence</th>\n      <th>name</th>\n    </tr>\n  </thead>\n  <tbody>\n    <tr>\n      <th>0</th>\n      <td>0.863000</td>\n      <td>0.719</td>\n      <td>0.308</td>\n      <td>0.000000</td>\n      <td>0.2530</td>\n      <td>31.0</td>\n      <td>0.9220</td>\n      <td>115.075</td>\n      <td>0.589</td>\n      <td>Storytime Classics, Vol. 2</td>\n    </tr>\n    <tr>\n      <th>1</th>\n      <td>0.101000</td>\n      <td>0.748</td>\n      <td>0.666</td>\n      <td>0.000653</td>\n      <td>0.0976</td>\n      <td>47.0</td>\n      <td>0.0833</td>\n      <td>114.982</td>\n      <td>0.359</td>\n      <td>Creature Kind</td>\n    </tr>\n    <tr>\n      <th>2</th>\n      <td>0.191000</td>\n      <td>0.608</td>\n      <td>0.664</td>\n      <td>0.042700</td>\n      <td>0.1200</td>\n      <td>35.0</td>\n      <td>0.0435</td>\n      <td>100.011</td>\n      <td>0.513</td>\n      <td>Cola Falls</td>\n    </tr>\n    <tr>\n      <th>3</th>\n      <td>0.678000</td>\n      <td>0.679</td>\n      <td>0.247</td>\n      <td>0.000001</td>\n      <td>0.1790</td>\n      <td>7.0</td>\n      <td>0.9240</td>\n      <td>100.846</td>\n      <td>0.397</td>\n      <td>Charles Dickens - The Short Stories</td>\n    </tr>\n    <tr>\n      <th>4</th>\n      <td>0.078600</td>\n      <td>0.470</td>\n      <td>0.828</td>\n      <td>0.000000</td>\n      <td>0.1780</td>\n      <td>55.0</td>\n      <td>0.0700</td>\n      <td>96.149</td>\n      <td>0.856</td>\n      <td>Donde Estas</td>\n    </tr>\n    <tr>\n      <th>...</th>\n      <td>...</td>\n      <td>...</td>\n      <td>...</td>\n      <td>...</td>\n      <td>...</td>\n      <td>...</td>\n      <td>...</td>\n      <td>...</td>\n      <td>...</td>\n      <td>...</td>\n    </tr>\n    <tr>\n      <th>53242</th>\n      <td>0.035500</td>\n      <td>0.782</td>\n      <td>0.665</td>\n      <td>0.000180</td>\n      <td>0.3670</td>\n      <td>7.0</td>\n      <td>0.3770</td>\n      <td>120.009</td>\n      <td>0.366</td>\n      <td>BIZNESS</td>\n    </tr>\n    <tr>\n      <th>53243</th>\n      <td>0.100000</td>\n      <td>0.587</td>\n      <td>0.786</td>\n      <td>0.000032</td>\n      <td>0.0808</td>\n      <td>53.0</td>\n      <td>0.0308</td>\n      <td>129.880</td>\n      <td>0.486</td>\n      <td>A Song Is A City</td>\n    </tr>\n    <tr>\n      <th>53244</th>\n      <td>0.005640</td>\n      <td>0.602</td>\n      <td>0.904</td>\n      <td>0.000000</td>\n      <td>0.0875</td>\n      <td>41.0</td>\n      <td>0.0327</td>\n      <td>130.186</td>\n      <td>0.787</td>\n      <td>Unit</td>\n    </tr>\n    <tr>\n      <th>53245</th>\n      <td>0.000406</td>\n      <td>0.177</td>\n      <td>0.823</td>\n      <td>0.005370</td>\n      <td>0.2420</td>\n      <td>44.0</td>\n      <td>0.0604</td>\n      <td>184.260</td>\n      <td>0.363</td>\n      <td>Freak Show</td>\n    </tr>\n    <tr>\n      <th>53246</th>\n      <td>0.333000</td>\n      <td>0.716</td>\n      <td>0.748</td>\n      <td>0.000007</td>\n      <td>0.0899</td>\n      <td>55.0</td>\n      <td>0.1510</td>\n      <td>110.015</td>\n      <td>0.760</td>\n      <td>The Cat Empire</td>\n    </tr>\n  </tbody>\n</table>\n<p>53247 rows × 10 columns</p>\n</div>"
     },
     "execution_count": 15,
     "metadata": {},
     "output_type": "execute_result"
    }
   ],
   "source": [
    "data2 = data[['acousticness', 'danceability', 'energy', 'instrumentalness','liveness','popularity','speechiness','tempo','valence','name']]\n",
    "data2"
   ],
   "metadata": {
    "collapsed": false,
    "ExecuteTime": {
     "end_time": "2023-05-21T12:00:20.868347200Z",
     "start_time": "2023-05-21T12:00:20.837088800Z"
    }
   }
  },
  {
   "cell_type": "code",
   "execution_count": 25,
   "outputs": [],
   "source": [
    "scaler = StandardScaler()\n",
    "scaler.fit(data2.drop('name', axis=1))\n",
    "scaled_features = scaler.transform(data2.drop('name',axis=1))\n",
    "scaled_features = pd.DataFrame(scaled_features)\n",
    "scaled_features['name'] = data2['name']\n",
    "scaled_features.columns = data2.columns\n"
   ],
   "metadata": {
    "collapsed": false,
    "ExecuteTime": {
     "end_time": "2023-05-21T12:10:57.961035Z",
     "start_time": "2023-05-21T12:10:57.929373700Z"
    }
   }
  },
  {
   "cell_type": "code",
   "execution_count": 42,
   "outputs": [
    {
     "data": {
      "text/plain": "     acousticness  danceability    energy  instrumentalness  liveness  \\\n130      0.290999      0.906152  0.710155         -0.533126 -0.462453   \n\n     popularity  speechiness     tempo   valence         name  \n130   -0.456204     -0.45382  0.147944 -0.024846  Wasted Time  ",
      "text/html": "<div>\n<style scoped>\n    .dataframe tbody tr th:only-of-type {\n        vertical-align: middle;\n    }\n\n    .dataframe tbody tr th {\n        vertical-align: top;\n    }\n\n    .dataframe thead th {\n        text-align: right;\n    }\n</style>\n<table border=\"1\" class=\"dataframe\">\n  <thead>\n    <tr style=\"text-align: right;\">\n      <th></th>\n      <th>acousticness</th>\n      <th>danceability</th>\n      <th>energy</th>\n      <th>instrumentalness</th>\n      <th>liveness</th>\n      <th>popularity</th>\n      <th>speechiness</th>\n      <th>tempo</th>\n      <th>valence</th>\n      <th>name</th>\n    </tr>\n  </thead>\n  <tbody>\n    <tr>\n      <th>130</th>\n      <td>0.290999</td>\n      <td>0.906152</td>\n      <td>0.710155</td>\n      <td>-0.533126</td>\n      <td>-0.462453</td>\n      <td>-0.456204</td>\n      <td>-0.45382</td>\n      <td>0.147944</td>\n      <td>-0.024846</td>\n      <td>Wasted Time</td>\n    </tr>\n  </tbody>\n</table>\n</div>"
     },
     "execution_count": 42,
     "metadata": {},
     "output_type": "execute_result"
    }
   ],
   "source": [
    "scaled_features[scaled_features['name'] == 'Wasted Time'].drop_duplicates().drop_duplicates()[:1]"
   ],
   "metadata": {
    "collapsed": false,
    "ExecuteTime": {
     "end_time": "2023-05-21T12:45:11.608999300Z",
     "start_time": "2023-05-21T12:45:11.576556500Z"
    }
   }
  },
  {
   "cell_type": "code",
   "execution_count": 35,
   "outputs": [
    {
     "data": {
      "text/plain": "array([[ 0.29099914,  0.90615213,  0.71015538, -0.53312594, -0.4624525 ,\n        -0.4562041 , -0.45382002,  0.14794413, -0.02484579, -0.87489442,\n         0.35555673, -1.15676055, -0.58180118, -0.48172305, -0.52050407,\n        -0.50220286,  2.02650491, -0.14457854]])"
     },
     "execution_count": 35,
     "metadata": {},
     "output_type": "execute_result"
    }
   ],
   "source": [
    "y = scaled_features[scaled_features['name'] == 'Wasted Time'][['acousticness', 'danceability', 'energy', 'instrumentalness','liveness','popularity','speechiness','tempo','valence']].drop_duplicates().squeeze().to_numpy().reshape(1,-1)\n",
    "y"
   ],
   "metadata": {
    "collapsed": false,
    "ExecuteTime": {
     "end_time": "2023-05-21T12:43:31.682094600Z",
     "start_time": "2023-05-21T12:43:31.650431400Z"
    }
   }
  },
  {
   "cell_type": "code",
   "execution_count": 27,
   "outputs": [
    {
     "name": "stderr",
     "output_type": "stream",
     "text": [
      "C:\\Users\\johan\\anaconda3\\lib\\site-packages\\sklearn\\base.py:420: UserWarning: X does not have valid feature names, but KNeighborsClassifier was fitted with feature names\n",
      "  warnings.warn(\n"
     ]
    },
    {
     "data": {
      "text/plain": "                                                    name  acousticness  \\\n29692                                        Everlasting        0.0276   \n12901                                     Grandes Êxitos        0.7900   \n11753                   Dynastie - Bach Family Concertos        0.2860   \n9103                                               Adieu        0.6650   \n7130                               Caminito de Contreras        0.7570   \n14051  Todas sus grabaciones en Hispavox, Vol. 1 (196...        0.3800   \n\n       danceability  energy  instrumentalness  liveness  popularity  \\\n29692         0.844  0.5660          0.000003    0.0706        51.0   \n12901         0.656  0.3310          0.000000    0.1180        17.0   \n11753         0.460  0.0544          0.004410    0.1530        22.0   \n9103          0.499  0.4540          0.884000    0.0939        39.0   \n7130          0.741  0.4710          0.000320    0.1140        28.0   \n14051         0.691  0.6460          0.000009    0.0720        15.0   \n\n       speechiness    tempo  valence  \n29692       0.1460   77.031   0.8200  \n12901       0.0319  120.335   0.2770  \n11753       0.0407  127.870   0.2510  \n9103        0.0528   71.829   0.0604  \n7130        0.0381  133.096   0.8110  \n14051       0.0284  135.679   0.8840  ",
      "text/html": "<div>\n<style scoped>\n    .dataframe tbody tr th:only-of-type {\n        vertical-align: middle;\n    }\n\n    .dataframe tbody tr th {\n        vertical-align: top;\n    }\n\n    .dataframe thead th {\n        text-align: right;\n    }\n</style>\n<table border=\"1\" class=\"dataframe\">\n  <thead>\n    <tr style=\"text-align: right;\">\n      <th></th>\n      <th>name</th>\n      <th>acousticness</th>\n      <th>danceability</th>\n      <th>energy</th>\n      <th>instrumentalness</th>\n      <th>liveness</th>\n      <th>popularity</th>\n      <th>speechiness</th>\n      <th>tempo</th>\n      <th>valence</th>\n    </tr>\n  </thead>\n  <tbody>\n    <tr>\n      <th>29692</th>\n      <td>Everlasting</td>\n      <td>0.0276</td>\n      <td>0.844</td>\n      <td>0.5660</td>\n      <td>0.000003</td>\n      <td>0.0706</td>\n      <td>51.0</td>\n      <td>0.1460</td>\n      <td>77.031</td>\n      <td>0.8200</td>\n    </tr>\n    <tr>\n      <th>12901</th>\n      <td>Grandes Êxitos</td>\n      <td>0.7900</td>\n      <td>0.656</td>\n      <td>0.3310</td>\n      <td>0.000000</td>\n      <td>0.1180</td>\n      <td>17.0</td>\n      <td>0.0319</td>\n      <td>120.335</td>\n      <td>0.2770</td>\n    </tr>\n    <tr>\n      <th>11753</th>\n      <td>Dynastie - Bach Family Concertos</td>\n      <td>0.2860</td>\n      <td>0.460</td>\n      <td>0.0544</td>\n      <td>0.004410</td>\n      <td>0.1530</td>\n      <td>22.0</td>\n      <td>0.0407</td>\n      <td>127.870</td>\n      <td>0.2510</td>\n    </tr>\n    <tr>\n      <th>9103</th>\n      <td>Adieu</td>\n      <td>0.6650</td>\n      <td>0.499</td>\n      <td>0.4540</td>\n      <td>0.884000</td>\n      <td>0.0939</td>\n      <td>39.0</td>\n      <td>0.0528</td>\n      <td>71.829</td>\n      <td>0.0604</td>\n    </tr>\n    <tr>\n      <th>7130</th>\n      <td>Caminito de Contreras</td>\n      <td>0.7570</td>\n      <td>0.741</td>\n      <td>0.4710</td>\n      <td>0.000320</td>\n      <td>0.1140</td>\n      <td>28.0</td>\n      <td>0.0381</td>\n      <td>133.096</td>\n      <td>0.8110</td>\n    </tr>\n    <tr>\n      <th>14051</th>\n      <td>Todas sus grabaciones en Hispavox, Vol. 1 (196...</td>\n      <td>0.3800</td>\n      <td>0.691</td>\n      <td>0.6460</td>\n      <td>0.000009</td>\n      <td>0.0720</td>\n      <td>15.0</td>\n      <td>0.0284</td>\n      <td>135.679</td>\n      <td>0.8840</td>\n    </tr>\n  </tbody>\n</table>\n</div>"
     },
     "execution_count": 27,
     "metadata": {},
     "output_type": "execute_result"
    }
   ],
   "source": [
    "l = knn.kneighbors(y, n_neighbors=6, return_distance=False)\n",
    "\n",
    "data.filter(list(l[0]), axis=0)[['name', 'acousticness', 'danceability', 'energy', 'instrumentalness','liveness','popularity','speechiness','tempo','valence']]"
   ],
   "metadata": {
    "collapsed": false,
    "ExecuteTime": {
     "end_time": "2023-05-21T12:11:09.132039Z",
     "start_time": "2023-05-21T12:11:09.116358300Z"
    }
   }
  },
  {
   "cell_type": "code",
   "execution_count": 13,
   "outputs": [
    {
     "data": {
      "text/plain": "array([[13660, 31236,   781, 33206, 12379, 22005]], dtype=int64)"
     },
     "execution_count": 13,
     "metadata": {},
     "output_type": "execute_result"
    }
   ],
   "source": [
    "l"
   ],
   "metadata": {
    "collapsed": false,
    "ExecuteTime": {
     "end_time": "2023-05-21T11:58:14.238140300Z",
     "start_time": "2023-05-21T11:58:14.238140300Z"
    }
   }
  },
  {
   "cell_type": "code",
   "execution_count": null,
   "outputs": [],
   "source": [],
   "metadata": {
    "collapsed": false
   }
  }
 ],
 "metadata": {
  "kernelspec": {
   "display_name": "Python 3",
   "language": "python",
   "name": "python3"
  },
  "language_info": {
   "codemirror_mode": {
    "name": "ipython",
    "version": 2
   },
   "file_extension": ".py",
   "mimetype": "text/x-python",
   "name": "python",
   "nbconvert_exporter": "python",
   "pygments_lexer": "ipython2",
   "version": "2.7.6"
  }
 },
 "nbformat": 4,
 "nbformat_minor": 0
}
