{
 "cells": [
  {
   "cell_type": "code",
   "execution_count": 453,
   "outputs": [],
   "source": [
    "import pandas as pd\n",
    "import numpy as np\n",
    "from sklearn.preprocessing import StandardScaler\n",
    "from sklearn.neighbors import KNeighborsClassifier\n",
    "from sklearn.model_selection import train_test_split\n",
    "import pickle\n",
    "\n"
   ],
   "metadata": {
    "collapsed": false,
    "ExecuteTime": {
     "start_time": "2023-05-13T16:07:54.387894Z",
     "end_time": "2023-05-13T16:07:54.397762Z"
    }
   }
  },
  {
   "cell_type": "markdown",
   "source": [
    "## Load datasets"
   ],
   "metadata": {
    "collapsed": false
   }
  },
  {
   "cell_type": "code",
   "execution_count": 278,
   "outputs": [],
   "source": [
    "def get_albums_data(path):\n",
    "    df_albums = pd.read_csv(path)\n",
    "\n",
    "    return df_albums\n",
    "\n",
    "df_albums = get_albums_data(path = 'SpotGenTrack/Data Sources/spotify_albums.csv')"
   ],
   "metadata": {
    "collapsed": false,
    "ExecuteTime": {
     "start_time": "2023-05-12T16:09:27.646399Z",
     "end_time": "2023-05-12T16:09:28.372424Z"
    }
   }
  },
  {
   "cell_type": "code",
   "execution_count": 279,
   "outputs": [
    {
     "data": {
      "text/plain": "Index(['Unnamed: 0', 'album_type', 'artist_id', 'available_markets',\n       'external_urls', 'href', 'id', 'images', 'name', 'release_date',\n       'release_date_precision', 'total_tracks', 'track_id', 'track_name_prev',\n       'uri', 'type'],\n      dtype='object')"
     },
     "execution_count": 279,
     "metadata": {},
     "output_type": "execute_result"
    }
   ],
   "source": [
    "df_albums.columns"
   ],
   "metadata": {
    "collapsed": false,
    "ExecuteTime": {
     "start_time": "2023-05-12T16:09:31.892429Z",
     "end_time": "2023-05-12T16:09:31.922891Z"
    }
   }
  },
  {
   "cell_type": "code",
   "execution_count": 438,
   "outputs": [
    {
     "data": {
      "text/plain": "     Unnamed: 0  artist_popularity  followers  \\\n0             0                 44      23230   \n2             2                 26       1596   \n3             3                 31        149   \n4             4                 21         11   \n9             9                 25        992   \n..          ...                ...        ...   \n252         252                 40      88632   \n253         253                 36        128   \n254         254                 24       2510   \n256         256                 55      80107   \n259         259                 57     231467   \n\n                                                genres  \\\n0    sertanejo,sertanejopop,sertanejotradicional,se...   \n2                                        danishpoprock   \n3                                     ukalternativepop   \n4                                        frenchbaroque   \n9                                    classicfinnishpop   \n..                                                 ...   \n252          newjackswing,quietstorm,urbancontemporary   \n253                                      jazzsaxophone   \n254                                      colombianrock   \n256  anthemworship,ccm,christianmusic,deepccm,world...   \n259                      christianhiphop,christiantrap   \n\n                         id                          name  \\\n0    4mGnpjhqgx4RUdsIJiURdo                 Juliano Cezar   \n2    6YVY310fjfUzKi8hiqR7iK                       Gangway   \n3    2VElyouiCfoYPDJluzwJwK                         FADES   \n4    4agVy03qW8juSysCTUOuDI           Jean-Pierre Guignon   \n9    5ijoPCUhV0dW8EJ7aPGvXK  Pepe Willberg & The Paradise   \n..                      ...                           ...   \n252  4D0WfOUqTzqKysXt33VL3j                     Michel'le   \n253  7p1C6cbN2rgBErzfB1u3Z7                   Julian Dash   \n254  2saVhSlCKjNZnW4QZcFHkE           Velandia y La Tigra   \n256  1vaOLxWPpsv5LVsSHBy9tF                   Jason Upton   \n259  12H1Dmi64fAmmARrsyVFzy                      Trip Lee   \n\n                   track_id track_name_prev    type            genre_1  target  \n0    0wmDmAILuW9e2aRttkl4aC         track_9  artist          sertanejo    40.0  \n2    1bFqWDbvHmZe2f4Nf9qaD8        track_38  artist   ukalternativepop    40.0  \n3    3MFSUBAidPzRBbIS7BDj1S        track_34  artist      frenchbaroque    40.0  \n4    2r3q57FhxdsCyYr0kuDq4b        track_26  artist  classicfinnishpop    40.0  \n9    6WVlVPoesX2zVvJzZJUj6a         track_8  artist          sertanejo    40.0  \n..                      ...             ...     ...                ...     ...  \n252  1CrWoWuxupYY1vi1XRdpBX        track_32  artist           indier&b    40.0  \n253  1axzRYUUASTfN4OOtrjfQd        track_98  artist          hebrewpop    19.0  \n254  2Cyn2Hzt5EBuB4bN2Vp9Tl        track_73  artist          atlhiphop    40.0  \n256  6tZ1vMQc957RRrNTjuQ4RJ        track_32  artist   brutaldeathmetal    40.0  \n259  3D3bIixHWgOXp3yMnOPQIS        track_20  artist   brutaldeathmetal    40.0  \n\n[100 rows x 11 columns]",
      "text/html": "<div>\n<style scoped>\n    .dataframe tbody tr th:only-of-type {\n        vertical-align: middle;\n    }\n\n    .dataframe tbody tr th {\n        vertical-align: top;\n    }\n\n    .dataframe thead th {\n        text-align: right;\n    }\n</style>\n<table border=\"1\" class=\"dataframe\">\n  <thead>\n    <tr style=\"text-align: right;\">\n      <th></th>\n      <th>Unnamed: 0</th>\n      <th>artist_popularity</th>\n      <th>followers</th>\n      <th>genres</th>\n      <th>id</th>\n      <th>name</th>\n      <th>track_id</th>\n      <th>track_name_prev</th>\n      <th>type</th>\n      <th>genre_1</th>\n      <th>target</th>\n    </tr>\n  </thead>\n  <tbody>\n    <tr>\n      <th>0</th>\n      <td>0</td>\n      <td>44</td>\n      <td>23230</td>\n      <td>sertanejo,sertanejopop,sertanejotradicional,se...</td>\n      <td>4mGnpjhqgx4RUdsIJiURdo</td>\n      <td>Juliano Cezar</td>\n      <td>0wmDmAILuW9e2aRttkl4aC</td>\n      <td>track_9</td>\n      <td>artist</td>\n      <td>sertanejo</td>\n      <td>40.0</td>\n    </tr>\n    <tr>\n      <th>2</th>\n      <td>2</td>\n      <td>26</td>\n      <td>1596</td>\n      <td>danishpoprock</td>\n      <td>6YVY310fjfUzKi8hiqR7iK</td>\n      <td>Gangway</td>\n      <td>1bFqWDbvHmZe2f4Nf9qaD8</td>\n      <td>track_38</td>\n      <td>artist</td>\n      <td>ukalternativepop</td>\n      <td>40.0</td>\n    </tr>\n    <tr>\n      <th>3</th>\n      <td>3</td>\n      <td>31</td>\n      <td>149</td>\n      <td>ukalternativepop</td>\n      <td>2VElyouiCfoYPDJluzwJwK</td>\n      <td>FADES</td>\n      <td>3MFSUBAidPzRBbIS7BDj1S</td>\n      <td>track_34</td>\n      <td>artist</td>\n      <td>frenchbaroque</td>\n      <td>40.0</td>\n    </tr>\n    <tr>\n      <th>4</th>\n      <td>4</td>\n      <td>21</td>\n      <td>11</td>\n      <td>frenchbaroque</td>\n      <td>4agVy03qW8juSysCTUOuDI</td>\n      <td>Jean-Pierre Guignon</td>\n      <td>2r3q57FhxdsCyYr0kuDq4b</td>\n      <td>track_26</td>\n      <td>artist</td>\n      <td>classicfinnishpop</td>\n      <td>40.0</td>\n    </tr>\n    <tr>\n      <th>9</th>\n      <td>9</td>\n      <td>25</td>\n      <td>992</td>\n      <td>classicfinnishpop</td>\n      <td>5ijoPCUhV0dW8EJ7aPGvXK</td>\n      <td>Pepe Willberg &amp; The Paradise</td>\n      <td>6WVlVPoesX2zVvJzZJUj6a</td>\n      <td>track_8</td>\n      <td>artist</td>\n      <td>sertanejo</td>\n      <td>40.0</td>\n    </tr>\n    <tr>\n      <th>...</th>\n      <td>...</td>\n      <td>...</td>\n      <td>...</td>\n      <td>...</td>\n      <td>...</td>\n      <td>...</td>\n      <td>...</td>\n      <td>...</td>\n      <td>...</td>\n      <td>...</td>\n      <td>...</td>\n    </tr>\n    <tr>\n      <th>252</th>\n      <td>252</td>\n      <td>40</td>\n      <td>88632</td>\n      <td>newjackswing,quietstorm,urbancontemporary</td>\n      <td>4D0WfOUqTzqKysXt33VL3j</td>\n      <td>Michel'le</td>\n      <td>1CrWoWuxupYY1vi1XRdpBX</td>\n      <td>track_32</td>\n      <td>artist</td>\n      <td>indier&amp;b</td>\n      <td>40.0</td>\n    </tr>\n    <tr>\n      <th>253</th>\n      <td>253</td>\n      <td>36</td>\n      <td>128</td>\n      <td>jazzsaxophone</td>\n      <td>7p1C6cbN2rgBErzfB1u3Z7</td>\n      <td>Julian Dash</td>\n      <td>1axzRYUUASTfN4OOtrjfQd</td>\n      <td>track_98</td>\n      <td>artist</td>\n      <td>hebrewpop</td>\n      <td>19.0</td>\n    </tr>\n    <tr>\n      <th>254</th>\n      <td>254</td>\n      <td>24</td>\n      <td>2510</td>\n      <td>colombianrock</td>\n      <td>2saVhSlCKjNZnW4QZcFHkE</td>\n      <td>Velandia y La Tigra</td>\n      <td>2Cyn2Hzt5EBuB4bN2Vp9Tl</td>\n      <td>track_73</td>\n      <td>artist</td>\n      <td>atlhiphop</td>\n      <td>40.0</td>\n    </tr>\n    <tr>\n      <th>256</th>\n      <td>256</td>\n      <td>55</td>\n      <td>80107</td>\n      <td>anthemworship,ccm,christianmusic,deepccm,world...</td>\n      <td>1vaOLxWPpsv5LVsSHBy9tF</td>\n      <td>Jason Upton</td>\n      <td>6tZ1vMQc957RRrNTjuQ4RJ</td>\n      <td>track_32</td>\n      <td>artist</td>\n      <td>brutaldeathmetal</td>\n      <td>40.0</td>\n    </tr>\n    <tr>\n      <th>259</th>\n      <td>259</td>\n      <td>57</td>\n      <td>231467</td>\n      <td>christianhiphop,christiantrap</td>\n      <td>12H1Dmi64fAmmARrsyVFzy</td>\n      <td>Trip Lee</td>\n      <td>3D3bIixHWgOXp3yMnOPQIS</td>\n      <td>track_20</td>\n      <td>artist</td>\n      <td>brutaldeathmetal</td>\n      <td>40.0</td>\n    </tr>\n  </tbody>\n</table>\n<p>100 rows × 11 columns</p>\n</div>"
     },
     "execution_count": 438,
     "metadata": {},
     "output_type": "execute_result"
    }
   ],
   "source": [
    "def get_artist_data(path, n):\n",
    "    \"\"\"\n",
    "    :param path: string to file\n",
    "    :param n: int, top level of genres\n",
    "    :return: dataframe, dictionary\n",
    "\n",
    "    \"\"\"\n",
    "    df_artists = pd.read_csv(path)\n",
    "\n",
    "    df_artists['genres'] = df_artists['genres'].astype('string')\n",
    "    df_artists = df_artists[df_artists['genres'] != '[]']\n",
    "    df_artists['genres'] = df_artists['genres'].str.strip('[]').str.replace(' ','' ).str.replace(\"'\", '')\n",
    "    split_df = pd.DataFrame(df_artists.genres.str.split(\",\").tolist())\n",
    "    labels = {}\n",
    "    for i, name in enumerate(list(split_df[0].value_counts()[:n].index)):\n",
    "        labels[name] = i\n",
    "\n",
    "    df_artists['genre_1'] = split_df[0]\n",
    "    df_artists['target'] = df_artists['genre_1'].apply(lambda x: labels.get(x)).fillna(n)\n",
    "    return df_artists, labels\n",
    "\n",
    "df_artists, labels = get_artist_data(path='SpotGenTrack/Data Sources/spotify_artists.csv' , n = 40)\n",
    "\n",
    "df_artists.head(100)"
   ],
   "metadata": {
    "collapsed": false,
    "ExecuteTime": {
     "start_time": "2023-05-13T14:53:33.994571Z",
     "end_time": "2023-05-13T14:53:34.191176Z"
    }
   }
  },
  {
   "cell_type": "code",
   "execution_count": 439,
   "outputs": [],
   "source": [
    "def get_tracks_data(path):\n",
    "    df_tracks = pd.read_csv(path)\n",
    "\n",
    "    return df_tracks\n",
    "df_tracks = get_tracks_data(path = 'SpotGenTrack/Data Sources/spotify_tracks.csv')"
   ],
   "metadata": {
    "collapsed": false,
    "ExecuteTime": {
     "start_time": "2023-05-13T14:53:34.500617Z",
     "end_time": "2023-05-13T14:53:36.601329Z"
    }
   }
  },
  {
   "cell_type": "code",
   "execution_count": 440,
   "outputs": [
    {
     "data": {
      "text/plain": "Index(['Unnamed: 0', 'acousticness', 'album_id', 'analysis_url', 'artists_id',\n       'available_markets', 'country', 'danceability', 'disc_number',\n       'duration_ms', 'energy', 'href', 'id', 'instrumentalness', 'key',\n       'liveness', 'loudness', 'lyrics', 'mode', 'name', 'playlist',\n       'popularity', 'preview_url', 'speechiness', 'tempo', 'time_signature',\n       'track_href', 'track_name_prev', 'track_number', 'uri', 'valence',\n       'type'],\n      dtype='object')"
     },
     "execution_count": 440,
     "metadata": {},
     "output_type": "execute_result"
    }
   ],
   "source": [
    "df_tracks.columns"
   ],
   "metadata": {
    "collapsed": false,
    "ExecuteTime": {
     "start_time": "2023-05-13T14:53:36.619960Z",
     "end_time": "2023-05-13T14:53:36.662124Z"
    }
   }
  },
  {
   "cell_type": "code",
   "execution_count": 441,
   "outputs": [
    {
     "data": {
      "text/plain": "   Unnamed: 0  mean_syllables_word  mean_words_sentence  n_sentences  n_words  \\\n0           0                -1.00                -1.00           -1       -1   \n1           1                 1.10                 5.65           31      326   \n2           2                 1.37                 4.77           74      532   \n3           3                 1.95                 3.38           72      430   \n4           4                 1.16                 2.99           68      368   \n\n   sentence_similarity                track_id  vocabulary_wealth  \n0            -1.000000  5KIfHjHI5NIsPHNt58qua0              -1.00  \n1             0.043011  13keyz9ikBe6ZpRasw7l4X               0.45  \n2             0.050352  1WugzepXsLjnsM0K4UaWYc               0.59  \n3             0.028560  2MO6oEAlMKcsfI8xP3yoy8               0.49  \n4             0.047849  1i4St7fmSUE9nB3R9n8fol               0.47  ",
      "text/html": "<div>\n<style scoped>\n    .dataframe tbody tr th:only-of-type {\n        vertical-align: middle;\n    }\n\n    .dataframe tbody tr th {\n        vertical-align: top;\n    }\n\n    .dataframe thead th {\n        text-align: right;\n    }\n</style>\n<table border=\"1\" class=\"dataframe\">\n  <thead>\n    <tr style=\"text-align: right;\">\n      <th></th>\n      <th>Unnamed: 0</th>\n      <th>mean_syllables_word</th>\n      <th>mean_words_sentence</th>\n      <th>n_sentences</th>\n      <th>n_words</th>\n      <th>sentence_similarity</th>\n      <th>track_id</th>\n      <th>vocabulary_wealth</th>\n    </tr>\n  </thead>\n  <tbody>\n    <tr>\n      <th>0</th>\n      <td>0</td>\n      <td>-1.00</td>\n      <td>-1.00</td>\n      <td>-1</td>\n      <td>-1</td>\n      <td>-1.000000</td>\n      <td>5KIfHjHI5NIsPHNt58qua0</td>\n      <td>-1.00</td>\n    </tr>\n    <tr>\n      <th>1</th>\n      <td>1</td>\n      <td>1.10</td>\n      <td>5.65</td>\n      <td>31</td>\n      <td>326</td>\n      <td>0.043011</td>\n      <td>13keyz9ikBe6ZpRasw7l4X</td>\n      <td>0.45</td>\n    </tr>\n    <tr>\n      <th>2</th>\n      <td>2</td>\n      <td>1.37</td>\n      <td>4.77</td>\n      <td>74</td>\n      <td>532</td>\n      <td>0.050352</td>\n      <td>1WugzepXsLjnsM0K4UaWYc</td>\n      <td>0.59</td>\n    </tr>\n    <tr>\n      <th>3</th>\n      <td>3</td>\n      <td>1.95</td>\n      <td>3.38</td>\n      <td>72</td>\n      <td>430</td>\n      <td>0.028560</td>\n      <td>2MO6oEAlMKcsfI8xP3yoy8</td>\n      <td>0.49</td>\n    </tr>\n    <tr>\n      <th>4</th>\n      <td>4</td>\n      <td>1.16</td>\n      <td>2.99</td>\n      <td>68</td>\n      <td>368</td>\n      <td>0.047849</td>\n      <td>1i4St7fmSUE9nB3R9n8fol</td>\n      <td>0.47</td>\n    </tr>\n  </tbody>\n</table>\n</div>"
     },
     "execution_count": 441,
     "metadata": {},
     "output_type": "execute_result"
    }
   ],
   "source": [
    "df_feature = pd.read_csv('SpotGenTrack/Features Extracted/lyrics_features.csv')\n",
    "\n",
    "df_feature.head()\n",
    "\n"
   ],
   "metadata": {
    "collapsed": false,
    "ExecuteTime": {
     "start_time": "2023-05-13T14:53:36.635103Z",
     "end_time": "2023-05-13T14:53:36.728215Z"
    }
   }
  },
  {
   "cell_type": "markdown",
   "source": [
    "### Join Tracks and Artists"
   ],
   "metadata": {
    "collapsed": false
   }
  },
  {
   "cell_type": "code",
   "execution_count": 442,
   "outputs": [],
   "source": [
    "def get_joined_dataframes(df_tracks, df_artists, df_albums):\n",
    "\n",
    "    df_join = df_tracks.set_index('id').join(df_artists.set_index('track_id'), on='id', lsuffix='_left', rsuffix='_right', how='inner')\n",
    "    df_join = df_join.join(df_albums.set_index('track_id'), on=df_join.index, lsuffix='_left', rsuffix='_right', how = 'inner')\n",
    "\n",
    "    df_test = df_join[['acousticness', 'danceability', 'energy', 'instrumentalness','liveness','popularity','speechiness','tempo','valence','target']]\n",
    "\n",
    "    return df_join, df_test\n",
    "\n",
    "#df_test = df_join[['acousticness', 'danceability', 'energy', 'instrumentalness','liveness','popularity','speechiness','tempo','valence', 'mean_syllables_word', 'mean_words_sentence', 'n_sentences', 'n_words', 'sentence_similarity', 'vocabulary_wealth','target',]]\n",
    "#df_test = df_join[['acousticness', 'danceability', 'energy', 'instrumentalness','liveness','popularity','speechiness','tempo','valence','target']]\n",
    "#df_test.head()"
   ],
   "metadata": {
    "collapsed": false,
    "ExecuteTime": {
     "start_time": "2023-05-13T14:53:36.729215Z",
     "end_time": "2023-05-13T14:53:36.746684Z"
    }
   }
  },
  {
   "cell_type": "code",
   "execution_count": 443,
   "outputs": [],
   "source": [
    "df_join, df_test = get_joined_dataframes(df_tracks, df_artists, df_albums)"
   ],
   "metadata": {
    "collapsed": false,
    "ExecuteTime": {
     "start_time": "2023-05-13T14:53:36.743633Z",
     "end_time": "2023-05-13T14:53:36.960253Z"
    }
   }
  },
  {
   "cell_type": "code",
   "execution_count": 444,
   "outputs": [],
   "source": [
    "#maybe delete audiobooks. we will see\n",
    "non_v = list(df_join[df_join.speechiness >= 0.93]['playlist'].unique())"
   ],
   "metadata": {
    "collapsed": false,
    "ExecuteTime": {
     "start_time": "2023-05-13T14:53:36.961742Z",
     "end_time": "2023-05-13T14:53:36.976087Z"
    }
   }
  },
  {
   "cell_type": "code",
   "execution_count": 459,
   "outputs": [],
   "source": [
    "def save_df_to_csv(df_join, df_test):\n",
    "    df_join.to_csv('Joined.csv',index=False)\n",
    "    df_test.to_csv('test.csv',index=False)"
   ],
   "metadata": {
    "collapsed": false,
    "ExecuteTime": {
     "start_time": "2023-05-13T16:18:29.290676Z",
     "end_time": "2023-05-13T16:18:29.300052Z"
    }
   }
  },
  {
   "cell_type": "code",
   "execution_count": 460,
   "outputs": [],
   "source": [
    "save_df_to_csv(df_join, df_test)"
   ],
   "metadata": {
    "collapsed": false,
    "ExecuteTime": {
     "start_time": "2023-05-13T16:18:36.009032Z",
     "end_time": "2023-05-13T16:18:38.914496Z"
    }
   }
  },
  {
   "cell_type": "markdown",
   "source": [
    "## Normalize dataset"
   ],
   "metadata": {
    "collapsed": false
   }
  },
  {
   "cell_type": "code",
   "execution_count": 445,
   "outputs": [],
   "source": [
    "def get_normalized_X_y(df_test):\n",
    "    df_test.dropna(inplace=True)\n",
    "    scaler = StandardScaler()\n",
    "    scaler.fit(df_test.drop('target', axis=1))\n",
    "    scaled_features = scaler.transform(df_test.drop('target',axis=1))\n",
    "    df_test_feat = pd.DataFrame(scaled_features, columns = df_test.columns[:-1])\n",
    "    y = df_test.iloc[:,-1].squeeze()\n",
    "    X = df_test_feat\n",
    "    return X, y"
   ],
   "metadata": {
    "collapsed": false,
    "ExecuteTime": {
     "start_time": "2023-05-13T14:53:36.976087Z",
     "end_time": "2023-05-13T14:53:37.021557Z"
    }
   }
  },
  {
   "cell_type": "code",
   "execution_count": 446,
   "outputs": [
    {
     "name": "stderr",
     "output_type": "stream",
     "text": [
      "C:\\Users\\johan\\AppData\\Local\\Temp\\ipykernel_2236\\3585950954.py:2: SettingWithCopyWarning: \n",
      "A value is trying to be set on a copy of a slice from a DataFrame\n",
      "\n",
      "See the caveats in the documentation: https://pandas.pydata.org/pandas-docs/stable/user_guide/indexing.html#returning-a-view-versus-a-copy\n",
      "  df_test.dropna(inplace=True)\n"
     ]
    }
   ],
   "source": [
    "X,y = get_normalized_X_y(df_test)"
   ],
   "metadata": {
    "collapsed": false,
    "ExecuteTime": {
     "start_time": "2023-05-13T14:53:36.993178Z",
     "end_time": "2023-05-13T14:53:37.030078Z"
    }
   }
  },
  {
   "cell_type": "code",
   "execution_count": 447,
   "outputs": [
    {
     "data": {
      "text/plain": "((23478, 9), (7827, 9), (23478,), (7827,))"
     },
     "execution_count": 447,
     "metadata": {},
     "output_type": "execute_result"
    }
   ],
   "source": [
    "def train_test_data (X,y):\n",
    "    X_train, X_test, y_train, y_test = train_test_split(X, y, test_size=0.25, random_state=42)\n",
    "\n",
    "    return  X_train, X_test, y_train, y_test\n",
    "\n",
    "X_train, X_test, y_train, y_test = train_test_data(X,y)\n",
    "\n",
    "X_train.shape,X_test.shape, y_train.shape, y_test.shape"
   ],
   "metadata": {
    "collapsed": false,
    "ExecuteTime": {
     "start_time": "2023-05-13T14:53:37.010245Z",
     "end_time": "2023-05-13T14:53:37.030078Z"
    }
   }
  },
  {
   "cell_type": "code",
   "execution_count": 448,
   "outputs": [],
   "source": [
    "def knn_trainer(X_train, y_train, n):\n",
    "    knn = KNeighborsClassifier(n_neighbors=n)\n",
    "\n",
    "    knn.fit(X_train, y_train)\n",
    "\n",
    "    return knn\n",
    "knn = knn_trainer(X_train, y_train, n= 7)"
   ],
   "metadata": {
    "collapsed": false,
    "ExecuteTime": {
     "start_time": "2023-05-13T14:53:37.039949Z",
     "end_time": "2023-05-13T14:53:37.100612Z"
    }
   }
  },
  {
   "cell_type": "markdown",
   "source": [
    "### Create Pickle File"
   ],
   "metadata": {
    "collapsed": false
   }
  },
  {
   "cell_type": "code",
   "execution_count": 456,
   "outputs": [],
   "source": [
    "def create_pickle(knn):\n",
    "    knnPickle = open('knn_pickle_file', 'wb')\n",
    "    pickle.dump(knn, knnPickle)\n",
    "    knnPickle.close()"
   ],
   "metadata": {
    "collapsed": false,
    "ExecuteTime": {
     "start_time": "2023-05-13T16:10:05.606729Z",
     "end_time": "2023-05-13T16:10:05.653148Z"
    }
   }
  },
  {
   "cell_type": "code",
   "execution_count": 458,
   "outputs": [],
   "source": [
    "create_pickle(knn)"
   ],
   "metadata": {
    "collapsed": false,
    "ExecuteTime": {
     "start_time": "2023-05-13T16:10:51.764468Z",
     "end_time": "2023-05-13T16:10:51.780123Z"
    }
   }
  },
  {
   "cell_type": "markdown",
   "source": [
    "### Stuff for Testing"
   ],
   "metadata": {
    "collapsed": false
   }
  },
  {
   "cell_type": "code",
   "execution_count": 454,
   "outputs": [],
   "source": [
    "knnPickle = open('knn_pickle_file', 'wb')"
   ],
   "metadata": {
    "collapsed": false
   }
  },
  {
   "cell_type": "code",
   "execution_count": 455,
   "outputs": [],
   "source": [
    "# source, destination\n",
    "pickle.dump(knn, knnPickle)\n",
    "\n",
    "# close the file\n",
    "knnPickle.close()"
   ],
   "metadata": {
    "collapsed": false
   }
  },
  {
   "cell_type": "code",
   "execution_count": 449,
   "outputs": [
    {
     "data": {
      "text/plain": "array([40., 40., 40., ..., 40., 40., 40.])"
     },
     "execution_count": 449,
     "metadata": {},
     "output_type": "execute_result"
    }
   ],
   "source": [
    "knn.predict(X_test)"
   ],
   "metadata": {
    "collapsed": false
   }
  },
  {
   "cell_type": "code",
   "execution_count": 450,
   "outputs": [
    {
     "data": {
      "text/plain": "0.9063498147438355"
     },
     "execution_count": 450,
     "metadata": {},
     "output_type": "execute_result"
    }
   ],
   "source": [
    "knn.score(X_test, y_test)"
   ],
   "metadata": {
    "collapsed": false
   }
  },
  {
   "cell_type": "code",
   "execution_count": 451,
   "outputs": [],
   "source": [
    "a = []\n",
    "\n",
    "for n in range(1,50):\n",
    "    knn = knn_trainer(X_train, y_train,n)\n",
    "    i = knn.score(X_test, y_test)\n",
    "    a.append(i)"
   ],
   "metadata": {
    "collapsed": false
   }
  },
  {
   "cell_type": "code",
   "execution_count": 452,
   "outputs": [
    {
     "data": {
      "text/plain": "[0.8259869681870449,\n 0.7499680592819726,\n 0.878880797240322,\n 0.9007282483710234,\n 0.904433371662195,\n 0.905838763255398,\n 0.9063498147438355,\n 0.9063498147438355,\n 0.9063498147438355,\n 0.9063498147438355,\n 0.9063498147438355,\n 0.9063498147438355,\n 0.9063498147438355,\n 0.9063498147438355,\n 0.9063498147438355,\n 0.9063498147438355,\n 0.9063498147438355,\n 0.9063498147438355,\n 0.9063498147438355,\n 0.9063498147438355,\n 0.9063498147438355,\n 0.9063498147438355,\n 0.9063498147438355,\n 0.9063498147438355,\n 0.9063498147438355,\n 0.9063498147438355,\n 0.9063498147438355,\n 0.9063498147438355,\n 0.9063498147438355,\n 0.9063498147438355,\n 0.9063498147438355,\n 0.9063498147438355,\n 0.9063498147438355,\n 0.9063498147438355,\n 0.9063498147438355,\n 0.9063498147438355,\n 0.9063498147438355,\n 0.9063498147438355,\n 0.9063498147438355,\n 0.9063498147438355,\n 0.9063498147438355,\n 0.9063498147438355,\n 0.9063498147438355,\n 0.9063498147438355,\n 0.9063498147438355,\n 0.9063498147438355,\n 0.9063498147438355,\n 0.9063498147438355,\n 0.9063498147438355]"
     },
     "execution_count": 452,
     "metadata": {},
     "output_type": "execute_result"
    }
   ],
   "source": [
    "a"
   ],
   "metadata": {
    "collapsed": false
   }
  },
  {
   "cell_type": "code",
   "execution_count": null,
   "outputs": [],
   "source": [],
   "metadata": {
    "collapsed": false
   }
  }
 ],
 "metadata": {
  "kernelspec": {
   "display_name": "Python 3",
   "language": "python",
   "name": "python3"
  },
  "language_info": {
   "codemirror_mode": {
    "name": "ipython",
    "version": 2
   },
   "file_extension": ".py",
   "mimetype": "text/x-python",
   "name": "python",
   "nbconvert_exporter": "python",
   "pygments_lexer": "ipython2",
   "version": "2.7.6"
  }
 },
 "nbformat": 4,
 "nbformat_minor": 0
}
