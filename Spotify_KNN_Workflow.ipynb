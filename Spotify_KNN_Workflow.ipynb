{
 "cells": [
  {
   "cell_type": "code",
   "execution_count": 23,
   "outputs": [],
   "source": [
    "import pandas as pd\n",
    "import numpy as np\n",
    "from sklearn.preprocessing import StandardScaler\n",
    "from sklearn.neighbors import KNeighborsClassifier\n",
    "from sklearn.model_selection import train_test_split\n",
    "import pickle\n",
    "from sklearn.cluster import KMeans\n",
    "import matplotlib.pyplot as plt\n",
    "\n"
   ],
   "metadata": {
    "collapsed": false,
    "ExecuteTime": {
     "end_time": "2023-05-21T11:04:40.277076700Z",
     "start_time": "2023-05-21T11:04:39.748976900Z"
    }
   }
  },
  {
   "cell_type": "markdown",
   "source": [
    "## Load datasets"
   ],
   "metadata": {
    "collapsed": false
   }
  },
  {
   "cell_type": "code",
   "execution_count": 2,
   "outputs": [],
   "source": [
    "def get_albums_data(path):\n",
    "    df_albums = pd.read_csv(path)\n",
    "\n",
    "    return df_albums\n",
    "\n",
    "df_albums = get_albums_data(path = 'SpotGenTrack/Data Sources/spotify_albums.csv')"
   ],
   "metadata": {
    "collapsed": false,
    "ExecuteTime": {
     "end_time": "2023-05-21T10:36:50.665864300Z",
     "start_time": "2023-05-21T10:36:50.032957200Z"
    }
   }
  },
  {
   "cell_type": "code",
   "execution_count": 3,
   "outputs": [
    {
     "data": {
      "text/plain": "Index(['Unnamed: 0', 'album_type', 'artist_id', 'available_markets',\n       'external_urls', 'href', 'id', 'images', 'name', 'release_date',\n       'release_date_precision', 'total_tracks', 'track_id', 'track_name_prev',\n       'uri', 'type'],\n      dtype='object')"
     },
     "execution_count": 3,
     "metadata": {},
     "output_type": "execute_result"
    }
   ],
   "source": [
    "df_albums.columns"
   ],
   "metadata": {
    "collapsed": false,
    "ExecuteTime": {
     "end_time": "2023-05-21T10:36:51.440765Z",
     "start_time": "2023-05-21T10:36:51.417205700Z"
    }
   }
  },
  {
   "cell_type": "code",
   "execution_count": 6,
   "outputs": [
    {
     "data": {
      "text/plain": "     Unnamed: 0  artist_popularity  followers  \\\n0             0                 44      23230   \n2             2                 26       1596   \n3             3                 31        149   \n4             4                 21         11   \n9             9                 25        992   \n..          ...                ...        ...   \n252         252                 40      88632   \n253         253                 36        128   \n254         254                 24       2510   \n256         256                 55      80107   \n259         259                 57     231467   \n\n                                                genres  \\\n0    sertanejo,sertanejopop,sertanejotradicional,se...   \n2                                        danishpoprock   \n3                                     ukalternativepop   \n4                                        frenchbaroque   \n9                                    classicfinnishpop   \n..                                                 ...   \n252          newjackswing,quietstorm,urbancontemporary   \n253                                      jazzsaxophone   \n254                                      colombianrock   \n256  anthemworship,ccm,christianmusic,deepccm,world...   \n259                      christianhiphop,christiantrap   \n\n                         id                          name  \\\n0    4mGnpjhqgx4RUdsIJiURdo                 Juliano Cezar   \n2    6YVY310fjfUzKi8hiqR7iK                       Gangway   \n3    2VElyouiCfoYPDJluzwJwK                         FADES   \n4    4agVy03qW8juSysCTUOuDI           Jean-Pierre Guignon   \n9    5ijoPCUhV0dW8EJ7aPGvXK  Pepe Willberg & The Paradise   \n..                      ...                           ...   \n252  4D0WfOUqTzqKysXt33VL3j                     Michel'le   \n253  7p1C6cbN2rgBErzfB1u3Z7                   Julian Dash   \n254  2saVhSlCKjNZnW4QZcFHkE           Velandia y La Tigra   \n256  1vaOLxWPpsv5LVsSHBy9tF                   Jason Upton   \n259  12H1Dmi64fAmmARrsyVFzy                      Trip Lee   \n\n                   track_id track_name_prev    type            genre_1  target  \n0    0wmDmAILuW9e2aRttkl4aC         track_9  artist          sertanejo    40.0  \n2    1bFqWDbvHmZe2f4Nf9qaD8        track_38  artist   ukalternativepop    40.0  \n3    3MFSUBAidPzRBbIS7BDj1S        track_34  artist      frenchbaroque    40.0  \n4    2r3q57FhxdsCyYr0kuDq4b        track_26  artist  classicfinnishpop    40.0  \n9    6WVlVPoesX2zVvJzZJUj6a         track_8  artist          sertanejo    40.0  \n..                      ...             ...     ...                ...     ...  \n252  1CrWoWuxupYY1vi1XRdpBX        track_32  artist           indier&b    40.0  \n253  1axzRYUUASTfN4OOtrjfQd        track_98  artist          hebrewpop    19.0  \n254  2Cyn2Hzt5EBuB4bN2Vp9Tl        track_73  artist          atlhiphop    40.0  \n256  6tZ1vMQc957RRrNTjuQ4RJ        track_32  artist   brutaldeathmetal    40.0  \n259  3D3bIixHWgOXp3yMnOPQIS        track_20  artist   brutaldeathmetal    40.0  \n\n[100 rows x 11 columns]",
      "text/html": "<div>\n<style scoped>\n    .dataframe tbody tr th:only-of-type {\n        vertical-align: middle;\n    }\n\n    .dataframe tbody tr th {\n        vertical-align: top;\n    }\n\n    .dataframe thead th {\n        text-align: right;\n    }\n</style>\n<table border=\"1\" class=\"dataframe\">\n  <thead>\n    <tr style=\"text-align: right;\">\n      <th></th>\n      <th>Unnamed: 0</th>\n      <th>artist_popularity</th>\n      <th>followers</th>\n      <th>genres</th>\n      <th>id</th>\n      <th>name</th>\n      <th>track_id</th>\n      <th>track_name_prev</th>\n      <th>type</th>\n      <th>genre_1</th>\n      <th>target</th>\n    </tr>\n  </thead>\n  <tbody>\n    <tr>\n      <th>0</th>\n      <td>0</td>\n      <td>44</td>\n      <td>23230</td>\n      <td>sertanejo,sertanejopop,sertanejotradicional,se...</td>\n      <td>4mGnpjhqgx4RUdsIJiURdo</td>\n      <td>Juliano Cezar</td>\n      <td>0wmDmAILuW9e2aRttkl4aC</td>\n      <td>track_9</td>\n      <td>artist</td>\n      <td>sertanejo</td>\n      <td>40.0</td>\n    </tr>\n    <tr>\n      <th>2</th>\n      <td>2</td>\n      <td>26</td>\n      <td>1596</td>\n      <td>danishpoprock</td>\n      <td>6YVY310fjfUzKi8hiqR7iK</td>\n      <td>Gangway</td>\n      <td>1bFqWDbvHmZe2f4Nf9qaD8</td>\n      <td>track_38</td>\n      <td>artist</td>\n      <td>ukalternativepop</td>\n      <td>40.0</td>\n    </tr>\n    <tr>\n      <th>3</th>\n      <td>3</td>\n      <td>31</td>\n      <td>149</td>\n      <td>ukalternativepop</td>\n      <td>2VElyouiCfoYPDJluzwJwK</td>\n      <td>FADES</td>\n      <td>3MFSUBAidPzRBbIS7BDj1S</td>\n      <td>track_34</td>\n      <td>artist</td>\n      <td>frenchbaroque</td>\n      <td>40.0</td>\n    </tr>\n    <tr>\n      <th>4</th>\n      <td>4</td>\n      <td>21</td>\n      <td>11</td>\n      <td>frenchbaroque</td>\n      <td>4agVy03qW8juSysCTUOuDI</td>\n      <td>Jean-Pierre Guignon</td>\n      <td>2r3q57FhxdsCyYr0kuDq4b</td>\n      <td>track_26</td>\n      <td>artist</td>\n      <td>classicfinnishpop</td>\n      <td>40.0</td>\n    </tr>\n    <tr>\n      <th>9</th>\n      <td>9</td>\n      <td>25</td>\n      <td>992</td>\n      <td>classicfinnishpop</td>\n      <td>5ijoPCUhV0dW8EJ7aPGvXK</td>\n      <td>Pepe Willberg &amp; The Paradise</td>\n      <td>6WVlVPoesX2zVvJzZJUj6a</td>\n      <td>track_8</td>\n      <td>artist</td>\n      <td>sertanejo</td>\n      <td>40.0</td>\n    </tr>\n    <tr>\n      <th>...</th>\n      <td>...</td>\n      <td>...</td>\n      <td>...</td>\n      <td>...</td>\n      <td>...</td>\n      <td>...</td>\n      <td>...</td>\n      <td>...</td>\n      <td>...</td>\n      <td>...</td>\n      <td>...</td>\n    </tr>\n    <tr>\n      <th>252</th>\n      <td>252</td>\n      <td>40</td>\n      <td>88632</td>\n      <td>newjackswing,quietstorm,urbancontemporary</td>\n      <td>4D0WfOUqTzqKysXt33VL3j</td>\n      <td>Michel'le</td>\n      <td>1CrWoWuxupYY1vi1XRdpBX</td>\n      <td>track_32</td>\n      <td>artist</td>\n      <td>indier&amp;b</td>\n      <td>40.0</td>\n    </tr>\n    <tr>\n      <th>253</th>\n      <td>253</td>\n      <td>36</td>\n      <td>128</td>\n      <td>jazzsaxophone</td>\n      <td>7p1C6cbN2rgBErzfB1u3Z7</td>\n      <td>Julian Dash</td>\n      <td>1axzRYUUASTfN4OOtrjfQd</td>\n      <td>track_98</td>\n      <td>artist</td>\n      <td>hebrewpop</td>\n      <td>19.0</td>\n    </tr>\n    <tr>\n      <th>254</th>\n      <td>254</td>\n      <td>24</td>\n      <td>2510</td>\n      <td>colombianrock</td>\n      <td>2saVhSlCKjNZnW4QZcFHkE</td>\n      <td>Velandia y La Tigra</td>\n      <td>2Cyn2Hzt5EBuB4bN2Vp9Tl</td>\n      <td>track_73</td>\n      <td>artist</td>\n      <td>atlhiphop</td>\n      <td>40.0</td>\n    </tr>\n    <tr>\n      <th>256</th>\n      <td>256</td>\n      <td>55</td>\n      <td>80107</td>\n      <td>anthemworship,ccm,christianmusic,deepccm,world...</td>\n      <td>1vaOLxWPpsv5LVsSHBy9tF</td>\n      <td>Jason Upton</td>\n      <td>6tZ1vMQc957RRrNTjuQ4RJ</td>\n      <td>track_32</td>\n      <td>artist</td>\n      <td>brutaldeathmetal</td>\n      <td>40.0</td>\n    </tr>\n    <tr>\n      <th>259</th>\n      <td>259</td>\n      <td>57</td>\n      <td>231467</td>\n      <td>christianhiphop,christiantrap</td>\n      <td>12H1Dmi64fAmmARrsyVFzy</td>\n      <td>Trip Lee</td>\n      <td>3D3bIixHWgOXp3yMnOPQIS</td>\n      <td>track_20</td>\n      <td>artist</td>\n      <td>brutaldeathmetal</td>\n      <td>40.0</td>\n    </tr>\n  </tbody>\n</table>\n<p>100 rows × 11 columns</p>\n</div>"
     },
     "execution_count": 6,
     "metadata": {},
     "output_type": "execute_result"
    }
   ],
   "source": [
    "def get_artist_data(path, n):\n",
    "    \"\"\"\n",
    "    :param path: string to file\n",
    "    :param n: int, top level of genres\n",
    "    :return: dataframe, dictionary\n",
    "\n",
    "    \"\"\"\n",
    "    df_artists = pd.read_csv(path)\n",
    "\n",
    "    df_artists['genres'] = df_artists['genres'].astype('string')\n",
    "    df_artists = df_artists[df_artists['genres'] != '[]']\n",
    "    df_artists['genres'] = df_artists['genres'].str.strip('[]').str.replace(' ','' ).str.replace(\"'\", '')\n",
    "    split_df = pd.DataFrame(df_artists.genres.str.split(\",\").tolist())\n",
    "    labels = {}\n",
    "    for i, name in enumerate(list(split_df[0].value_counts()[:n].index)):\n",
    "        labels[name] = i\n",
    "\n",
    "    df_artists['genre_1'] = split_df[0]\n",
    "    df_artists['target'] = df_artists['genre_1'].apply(lambda x: labels.get(x)).fillna(n)\n",
    "    return df_artists, labels\n",
    "\n",
    "df_artists, labels = get_artist_data(path='SpotGenTrack/Data Sources/spotify_artists.csv' , n = 40)\n",
    "\n",
    "df_artists.head(100)"
   ],
   "metadata": {
    "collapsed": false,
    "ExecuteTime": {
     "end_time": "2023-05-21T11:00:43.364050200Z",
     "start_time": "2023-05-21T11:00:43.179683100Z"
    }
   }
  },
  {
   "cell_type": "code",
   "execution_count": 7,
   "outputs": [
    {
     "data": {
      "text/plain": "                       0\ndancepop               0\nalternativer&b         1\nfocus                  2\nadultstandards         3\nalternativemetal       4\nchillhop               5\nbigroom                6\nalbumrock              7\nlatin                  8\nanthemworship          9\nalternativedance      10\nfinnishdancepop       11\nclassicalperformance  12\ncontemporarycountry   13\nbailepop              14\ndutchhiphop           15\nchanson               16\nartpop                17\nk-indie               18\nhebrewpop             19\nclassical             20\nbasshouse             21\nbrazilianhiphop       22\nalternativerock       23\nk-pop                 24\nalternativehiphop     25\ndeepswedishhiphop     26\nbrazilianelectronica  27\nchamberpop            28\ncantautor             29\ndancehall             30\nacousticpop           31\nadoracao              32\ngrime                 33\nafrohouse             34\ndanishhiphop          35\nbasstrap              36\nfrenchhiphop          37\nclassicalpiano        38\nargentineindie        39",
      "text/html": "<div>\n<style scoped>\n    .dataframe tbody tr th:only-of-type {\n        vertical-align: middle;\n    }\n\n    .dataframe tbody tr th {\n        vertical-align: top;\n    }\n\n    .dataframe thead th {\n        text-align: right;\n    }\n</style>\n<table border=\"1\" class=\"dataframe\">\n  <thead>\n    <tr style=\"text-align: right;\">\n      <th></th>\n      <th>0</th>\n    </tr>\n  </thead>\n  <tbody>\n    <tr>\n      <th>dancepop</th>\n      <td>0</td>\n    </tr>\n    <tr>\n      <th>alternativer&amp;b</th>\n      <td>1</td>\n    </tr>\n    <tr>\n      <th>focus</th>\n      <td>2</td>\n    </tr>\n    <tr>\n      <th>adultstandards</th>\n      <td>3</td>\n    </tr>\n    <tr>\n      <th>alternativemetal</th>\n      <td>4</td>\n    </tr>\n    <tr>\n      <th>chillhop</th>\n      <td>5</td>\n    </tr>\n    <tr>\n      <th>bigroom</th>\n      <td>6</td>\n    </tr>\n    <tr>\n      <th>albumrock</th>\n      <td>7</td>\n    </tr>\n    <tr>\n      <th>latin</th>\n      <td>8</td>\n    </tr>\n    <tr>\n      <th>anthemworship</th>\n      <td>9</td>\n    </tr>\n    <tr>\n      <th>alternativedance</th>\n      <td>10</td>\n    </tr>\n    <tr>\n      <th>finnishdancepop</th>\n      <td>11</td>\n    </tr>\n    <tr>\n      <th>classicalperformance</th>\n      <td>12</td>\n    </tr>\n    <tr>\n      <th>contemporarycountry</th>\n      <td>13</td>\n    </tr>\n    <tr>\n      <th>bailepop</th>\n      <td>14</td>\n    </tr>\n    <tr>\n      <th>dutchhiphop</th>\n      <td>15</td>\n    </tr>\n    <tr>\n      <th>chanson</th>\n      <td>16</td>\n    </tr>\n    <tr>\n      <th>artpop</th>\n      <td>17</td>\n    </tr>\n    <tr>\n      <th>k-indie</th>\n      <td>18</td>\n    </tr>\n    <tr>\n      <th>hebrewpop</th>\n      <td>19</td>\n    </tr>\n    <tr>\n      <th>classical</th>\n      <td>20</td>\n    </tr>\n    <tr>\n      <th>basshouse</th>\n      <td>21</td>\n    </tr>\n    <tr>\n      <th>brazilianhiphop</th>\n      <td>22</td>\n    </tr>\n    <tr>\n      <th>alternativerock</th>\n      <td>23</td>\n    </tr>\n    <tr>\n      <th>k-pop</th>\n      <td>24</td>\n    </tr>\n    <tr>\n      <th>alternativehiphop</th>\n      <td>25</td>\n    </tr>\n    <tr>\n      <th>deepswedishhiphop</th>\n      <td>26</td>\n    </tr>\n    <tr>\n      <th>brazilianelectronica</th>\n      <td>27</td>\n    </tr>\n    <tr>\n      <th>chamberpop</th>\n      <td>28</td>\n    </tr>\n    <tr>\n      <th>cantautor</th>\n      <td>29</td>\n    </tr>\n    <tr>\n      <th>dancehall</th>\n      <td>30</td>\n    </tr>\n    <tr>\n      <th>acousticpop</th>\n      <td>31</td>\n    </tr>\n    <tr>\n      <th>adoracao</th>\n      <td>32</td>\n    </tr>\n    <tr>\n      <th>grime</th>\n      <td>33</td>\n    </tr>\n    <tr>\n      <th>afrohouse</th>\n      <td>34</td>\n    </tr>\n    <tr>\n      <th>danishhiphop</th>\n      <td>35</td>\n    </tr>\n    <tr>\n      <th>basstrap</th>\n      <td>36</td>\n    </tr>\n    <tr>\n      <th>frenchhiphop</th>\n      <td>37</td>\n    </tr>\n    <tr>\n      <th>classicalpiano</th>\n      <td>38</td>\n    </tr>\n    <tr>\n      <th>argentineindie</th>\n      <td>39</td>\n    </tr>\n  </tbody>\n</table>\n</div>"
     },
     "execution_count": 7,
     "metadata": {},
     "output_type": "execute_result"
    }
   ],
   "source": [
    "pd.DataFrame.from_dict(labels, orient='index')"
   ],
   "metadata": {
    "collapsed": false,
    "ExecuteTime": {
     "end_time": "2023-05-21T11:00:44.215035900Z",
     "start_time": "2023-05-21T11:00:44.190973200Z"
    }
   }
  },
  {
   "cell_type": "code",
   "execution_count": 8,
   "outputs": [],
   "source": [
    "def get_tracks_data(path):\n",
    "    df_tracks = pd.read_csv(path)\n",
    "\n",
    "    return df_tracks\n",
    "df_tracks = get_tracks_data(path = 'SpotGenTrack/Data Sources/spotify_tracks.csv')"
   ],
   "metadata": {
    "collapsed": false,
    "ExecuteTime": {
     "end_time": "2023-05-21T11:00:47.011930200Z",
     "start_time": "2023-05-21T11:00:44.816275800Z"
    }
   }
  },
  {
   "cell_type": "code",
   "execution_count": 9,
   "outputs": [
    {
     "data": {
      "text/plain": "Index(['Unnamed: 0', 'acousticness', 'album_id', 'analysis_url', 'artists_id',\n       'available_markets', 'country', 'danceability', 'disc_number',\n       'duration_ms', 'energy', 'href', 'id', 'instrumentalness', 'key',\n       'liveness', 'loudness', 'lyrics', 'mode', 'name', 'playlist',\n       'popularity', 'preview_url', 'speechiness', 'tempo', 'time_signature',\n       'track_href', 'track_name_prev', 'track_number', 'uri', 'valence',\n       'type'],\n      dtype='object')"
     },
     "execution_count": 9,
     "metadata": {},
     "output_type": "execute_result"
    }
   ],
   "source": [
    "df_tracks.columns"
   ],
   "metadata": {
    "collapsed": false,
    "ExecuteTime": {
     "end_time": "2023-05-21T11:00:47.964730400Z",
     "start_time": "2023-05-21T11:00:47.952876900Z"
    }
   }
  },
  {
   "cell_type": "code",
   "execution_count": 10,
   "outputs": [
    {
     "data": {
      "text/plain": "   Unnamed: 0  mean_syllables_word  mean_words_sentence  n_sentences  n_words  \\\n0           0                -1.00                -1.00           -1       -1   \n1           1                 1.10                 5.65           31      326   \n2           2                 1.37                 4.77           74      532   \n3           3                 1.95                 3.38           72      430   \n4           4                 1.16                 2.99           68      368   \n\n   sentence_similarity                track_id  vocabulary_wealth  \n0            -1.000000  5KIfHjHI5NIsPHNt58qua0              -1.00  \n1             0.043011  13keyz9ikBe6ZpRasw7l4X               0.45  \n2             0.050352  1WugzepXsLjnsM0K4UaWYc               0.59  \n3             0.028560  2MO6oEAlMKcsfI8xP3yoy8               0.49  \n4             0.047849  1i4St7fmSUE9nB3R9n8fol               0.47  ",
      "text/html": "<div>\n<style scoped>\n    .dataframe tbody tr th:only-of-type {\n        vertical-align: middle;\n    }\n\n    .dataframe tbody tr th {\n        vertical-align: top;\n    }\n\n    .dataframe thead th {\n        text-align: right;\n    }\n</style>\n<table border=\"1\" class=\"dataframe\">\n  <thead>\n    <tr style=\"text-align: right;\">\n      <th></th>\n      <th>Unnamed: 0</th>\n      <th>mean_syllables_word</th>\n      <th>mean_words_sentence</th>\n      <th>n_sentences</th>\n      <th>n_words</th>\n      <th>sentence_similarity</th>\n      <th>track_id</th>\n      <th>vocabulary_wealth</th>\n    </tr>\n  </thead>\n  <tbody>\n    <tr>\n      <th>0</th>\n      <td>0</td>\n      <td>-1.00</td>\n      <td>-1.00</td>\n      <td>-1</td>\n      <td>-1</td>\n      <td>-1.000000</td>\n      <td>5KIfHjHI5NIsPHNt58qua0</td>\n      <td>-1.00</td>\n    </tr>\n    <tr>\n      <th>1</th>\n      <td>1</td>\n      <td>1.10</td>\n      <td>5.65</td>\n      <td>31</td>\n      <td>326</td>\n      <td>0.043011</td>\n      <td>13keyz9ikBe6ZpRasw7l4X</td>\n      <td>0.45</td>\n    </tr>\n    <tr>\n      <th>2</th>\n      <td>2</td>\n      <td>1.37</td>\n      <td>4.77</td>\n      <td>74</td>\n      <td>532</td>\n      <td>0.050352</td>\n      <td>1WugzepXsLjnsM0K4UaWYc</td>\n      <td>0.59</td>\n    </tr>\n    <tr>\n      <th>3</th>\n      <td>3</td>\n      <td>1.95</td>\n      <td>3.38</td>\n      <td>72</td>\n      <td>430</td>\n      <td>0.028560</td>\n      <td>2MO6oEAlMKcsfI8xP3yoy8</td>\n      <td>0.49</td>\n    </tr>\n    <tr>\n      <th>4</th>\n      <td>4</td>\n      <td>1.16</td>\n      <td>2.99</td>\n      <td>68</td>\n      <td>368</td>\n      <td>0.047849</td>\n      <td>1i4St7fmSUE9nB3R9n8fol</td>\n      <td>0.47</td>\n    </tr>\n  </tbody>\n</table>\n</div>"
     },
     "execution_count": 10,
     "metadata": {},
     "output_type": "execute_result"
    }
   ],
   "source": [
    "df_feature = pd.read_csv('SpotGenTrack/Features Extracted/lyrics_features.csv')\n",
    "\n",
    "df_feature.head()\n",
    "\n"
   ],
   "metadata": {
    "collapsed": false,
    "ExecuteTime": {
     "end_time": "2023-05-21T11:00:48.585021800Z",
     "start_time": "2023-05-21T11:00:48.498157100Z"
    }
   }
  },
  {
   "cell_type": "markdown",
   "source": [
    "### Join Tracks and Artists"
   ],
   "metadata": {
    "collapsed": false
   }
  },
  {
   "cell_type": "code",
   "execution_count": 11,
   "outputs": [],
   "source": [
    "def get_joined_dataframes(df_tracks, df_artists, df_albums):\n",
    "\n",
    "    df_join = df_tracks.set_index('id').join(df_artists.set_index('track_id'), on='id', lsuffix='_left', rsuffix='_right', how='inner')\n",
    "    df_join = df_join.join(df_albums.set_index('track_id'), on=df_join.index, lsuffix='_left', rsuffix='_right', how = 'inner')\n",
    "\n",
    "    df_test = df_join[['acousticness', 'danceability', 'energy', 'instrumentalness','liveness','popularity','speechiness','tempo','valence','target']]\n",
    "\n",
    "    return df_join, df_test\n",
    "\n",
    "#df_test = df_join[['acousticness', 'danceability', 'energy', 'instrumentalness','liveness','popularity','speechiness','tempo','valence', 'mean_syllables_word', 'mean_words_sentence', 'n_sentences', 'n_words', 'sentence_similarity', 'vocabulary_wealth','target',]]\n",
    "#df_test = df_join[['acousticness', 'danceability', 'energy', 'instrumentalness','liveness','popularity','speechiness','tempo','valence','target']]\n",
    "#df_test.head()"
   ],
   "metadata": {
    "collapsed": false,
    "ExecuteTime": {
     "end_time": "2023-05-21T11:00:52.601013100Z",
     "start_time": "2023-05-21T11:00:52.584888100Z"
    }
   }
  },
  {
   "cell_type": "code",
   "execution_count": 12,
   "outputs": [],
   "source": [
    "df_join, df_test = get_joined_dataframes(df_tracks, df_artists, df_albums)"
   ],
   "metadata": {
    "collapsed": false,
    "ExecuteTime": {
     "end_time": "2023-05-21T11:00:53.798730700Z",
     "start_time": "2023-05-21T11:00:53.585997Z"
    }
   }
  },
  {
   "cell_type": "code",
   "execution_count": 15,
   "outputs": [
    {
     "data": {
      "text/plain": "                        acousticness  danceability  energy  instrumentalness  \\\nid                                                                             \n01zME4q62SDPtD0hOSmTrG        0.1010         0.748   0.666          0.000653   \n2Dh5wED4UVeiBqneUdc5Gy        0.1910         0.608   0.664          0.042700   \n58QDB1sKe1wHZEvngevtGE        0.0786         0.470   0.828          0.000000   \n6lgHNsNnN2ohPCBPtXwqvI        0.3160         0.336   0.861          0.000107   \n2kmakreNNd0A2UAPA1hIO3        0.1480         0.790   0.722          0.000000   \n\n                        liveness  popularity  speechiness    tempo  valence  \nid                                                                           \n01zME4q62SDPtD0hOSmTrG    0.0976        47.0       0.0833  114.982    0.359  \n2Dh5wED4UVeiBqneUdc5Gy    0.1200        35.0       0.0435  100.011    0.513  \n58QDB1sKe1wHZEvngevtGE    0.1780        55.0       0.0700   96.149    0.856  \n6lgHNsNnN2ohPCBPtXwqvI    0.2160        41.0       0.1020  179.142    0.789  \n2kmakreNNd0A2UAPA1hIO3    0.1720        49.0       0.0678   98.109    0.948  ",
      "text/html": "<div>\n<style scoped>\n    .dataframe tbody tr th:only-of-type {\n        vertical-align: middle;\n    }\n\n    .dataframe tbody tr th {\n        vertical-align: top;\n    }\n\n    .dataframe thead th {\n        text-align: right;\n    }\n</style>\n<table border=\"1\" class=\"dataframe\">\n  <thead>\n    <tr style=\"text-align: right;\">\n      <th></th>\n      <th>acousticness</th>\n      <th>danceability</th>\n      <th>energy</th>\n      <th>instrumentalness</th>\n      <th>liveness</th>\n      <th>popularity</th>\n      <th>speechiness</th>\n      <th>tempo</th>\n      <th>valence</th>\n    </tr>\n    <tr>\n      <th>id</th>\n      <th></th>\n      <th></th>\n      <th></th>\n      <th></th>\n      <th></th>\n      <th></th>\n      <th></th>\n      <th></th>\n      <th></th>\n    </tr>\n  </thead>\n  <tbody>\n    <tr>\n      <th>01zME4q62SDPtD0hOSmTrG</th>\n      <td>0.1010</td>\n      <td>0.748</td>\n      <td>0.666</td>\n      <td>0.000653</td>\n      <td>0.0976</td>\n      <td>47.0</td>\n      <td>0.0833</td>\n      <td>114.982</td>\n      <td>0.359</td>\n    </tr>\n    <tr>\n      <th>2Dh5wED4UVeiBqneUdc5Gy</th>\n      <td>0.1910</td>\n      <td>0.608</td>\n      <td>0.664</td>\n      <td>0.042700</td>\n      <td>0.1200</td>\n      <td>35.0</td>\n      <td>0.0435</td>\n      <td>100.011</td>\n      <td>0.513</td>\n    </tr>\n    <tr>\n      <th>58QDB1sKe1wHZEvngevtGE</th>\n      <td>0.0786</td>\n      <td>0.470</td>\n      <td>0.828</td>\n      <td>0.000000</td>\n      <td>0.1780</td>\n      <td>55.0</td>\n      <td>0.0700</td>\n      <td>96.149</td>\n      <td>0.856</td>\n    </tr>\n    <tr>\n      <th>6lgHNsNnN2ohPCBPtXwqvI</th>\n      <td>0.3160</td>\n      <td>0.336</td>\n      <td>0.861</td>\n      <td>0.000107</td>\n      <td>0.2160</td>\n      <td>41.0</td>\n      <td>0.1020</td>\n      <td>179.142</td>\n      <td>0.789</td>\n    </tr>\n    <tr>\n      <th>2kmakreNNd0A2UAPA1hIO3</th>\n      <td>0.1480</td>\n      <td>0.790</td>\n      <td>0.722</td>\n      <td>0.000000</td>\n      <td>0.1720</td>\n      <td>49.0</td>\n      <td>0.0678</td>\n      <td>98.109</td>\n      <td>0.948</td>\n    </tr>\n  </tbody>\n</table>\n</div>"
     },
     "execution_count": 15,
     "metadata": {},
     "output_type": "execute_result"
    }
   ],
   "source": [
    "df = df_test.drop('target', axis= 1)\n",
    "df.head()"
   ],
   "metadata": {
    "collapsed": false,
    "ExecuteTime": {
     "end_time": "2023-05-21T11:01:55.972263700Z",
     "start_time": "2023-05-21T11:01:55.942537900Z"
    }
   }
  },
  {
   "cell_type": "code",
   "execution_count": 16,
   "outputs": [],
   "source": [
    "from sklearn.preprocessing import StandardScaler\n",
    "\n",
    "scaler = StandardScaler()\n",
    "\n",
    "scaler.fit(df)\n",
    "\n",
    "scaled_data = scaler.transform(df)"
   ],
   "metadata": {
    "collapsed": false,
    "ExecuteTime": {
     "end_time": "2023-05-21T11:02:12.531189100Z",
     "start_time": "2023-05-21T11:02:12.505196100Z"
    }
   }
  },
  {
   "cell_type": "code",
   "execution_count": 18,
   "outputs": [],
   "source": [
    "def find_best_clusters(df, maximum_K):\n",
    "\n",
    "    clusters_centers = []\n",
    "    k_values = []\n",
    "\n",
    "    for k in range(1, maximum_K):\n",
    "\n",
    "        kmeans_model = KMeans(n_clusters = k)\n",
    "        kmeans_model.fit(df)\n",
    "\n",
    "        clusters_centers.append(kmeans_model.inertia_)\n",
    "        k_values.append(k)\n",
    "\n",
    "\n",
    "    return clusters_centers, k_values"
   ],
   "metadata": {
    "collapsed": false,
    "ExecuteTime": {
     "end_time": "2023-05-21T11:02:45.659472700Z",
     "start_time": "2023-05-21T11:02:45.650925Z"
    }
   }
  },
  {
   "cell_type": "code",
   "execution_count": 19,
   "outputs": [],
   "source": [
    "def generate_elbow_plot(clusters_centers, k_values):\n",
    "\n",
    "    figure = plt.subplots(figsize = (12, 6))\n",
    "    plt.plot(k_values, clusters_centers, 'o-', color = 'orange')\n",
    "    plt.xlabel(\"Number of Clusters (K)\")\n",
    "    plt.ylabel(\"Cluster Inertia\")\n",
    "    plt.title(\"Elbow Plot of KMeans\")\n",
    "    plt.show()"
   ],
   "metadata": {
    "collapsed": false,
    "ExecuteTime": {
     "end_time": "2023-05-21T11:02:46.282493800Z",
     "start_time": "2023-05-21T11:02:46.273951300Z"
    }
   }
  },
  {
   "cell_type": "code",
   "execution_count": 25,
   "outputs": [
    {
     "name": "stderr",
     "output_type": "stream",
     "text": [
      "C:\\Users\\johan\\anaconda3\\lib\\site-packages\\sklearn\\cluster\\_kmeans.py:870: FutureWarning: The default value of `n_init` will change from 10 to 'auto' in 1.4. Set the value of `n_init` explicitly to suppress the warning\n",
      "  warnings.warn(\n",
      "C:\\Users\\johan\\anaconda3\\lib\\site-packages\\sklearn\\cluster\\_kmeans.py:870: FutureWarning: The default value of `n_init` will change from 10 to 'auto' in 1.4. Set the value of `n_init` explicitly to suppress the warning\n",
      "  warnings.warn(\n",
      "C:\\Users\\johan\\anaconda3\\lib\\site-packages\\sklearn\\cluster\\_kmeans.py:870: FutureWarning: The default value of `n_init` will change from 10 to 'auto' in 1.4. Set the value of `n_init` explicitly to suppress the warning\n",
      "  warnings.warn(\n",
      "C:\\Users\\johan\\anaconda3\\lib\\site-packages\\sklearn\\cluster\\_kmeans.py:870: FutureWarning: The default value of `n_init` will change from 10 to 'auto' in 1.4. Set the value of `n_init` explicitly to suppress the warning\n",
      "  warnings.warn(\n",
      "C:\\Users\\johan\\anaconda3\\lib\\site-packages\\sklearn\\cluster\\_kmeans.py:870: FutureWarning: The default value of `n_init` will change from 10 to 'auto' in 1.4. Set the value of `n_init` explicitly to suppress the warning\n",
      "  warnings.warn(\n",
      "C:\\Users\\johan\\anaconda3\\lib\\site-packages\\sklearn\\cluster\\_kmeans.py:870: FutureWarning: The default value of `n_init` will change from 10 to 'auto' in 1.4. Set the value of `n_init` explicitly to suppress the warning\n",
      "  warnings.warn(\n",
      "C:\\Users\\johan\\anaconda3\\lib\\site-packages\\sklearn\\cluster\\_kmeans.py:870: FutureWarning: The default value of `n_init` will change from 10 to 'auto' in 1.4. Set the value of `n_init` explicitly to suppress the warning\n",
      "  warnings.warn(\n",
      "C:\\Users\\johan\\anaconda3\\lib\\site-packages\\sklearn\\cluster\\_kmeans.py:870: FutureWarning: The default value of `n_init` will change from 10 to 'auto' in 1.4. Set the value of `n_init` explicitly to suppress the warning\n",
      "  warnings.warn(\n",
      "C:\\Users\\johan\\anaconda3\\lib\\site-packages\\sklearn\\cluster\\_kmeans.py:870: FutureWarning: The default value of `n_init` will change from 10 to 'auto' in 1.4. Set the value of `n_init` explicitly to suppress the warning\n",
      "  warnings.warn(\n",
      "C:\\Users\\johan\\anaconda3\\lib\\site-packages\\sklearn\\cluster\\_kmeans.py:870: FutureWarning: The default value of `n_init` will change from 10 to 'auto' in 1.4. Set the value of `n_init` explicitly to suppress the warning\n",
      "  warnings.warn(\n",
      "C:\\Users\\johan\\anaconda3\\lib\\site-packages\\sklearn\\cluster\\_kmeans.py:870: FutureWarning: The default value of `n_init` will change from 10 to 'auto' in 1.4. Set the value of `n_init` explicitly to suppress the warning\n",
      "  warnings.warn(\n",
      "C:\\Users\\johan\\anaconda3\\lib\\site-packages\\sklearn\\cluster\\_kmeans.py:870: FutureWarning: The default value of `n_init` will change from 10 to 'auto' in 1.4. Set the value of `n_init` explicitly to suppress the warning\n",
      "  warnings.warn(\n",
      "C:\\Users\\johan\\anaconda3\\lib\\site-packages\\sklearn\\cluster\\_kmeans.py:870: FutureWarning: The default value of `n_init` will change from 10 to 'auto' in 1.4. Set the value of `n_init` explicitly to suppress the warning\n",
      "  warnings.warn(\n",
      "C:\\Users\\johan\\anaconda3\\lib\\site-packages\\sklearn\\cluster\\_kmeans.py:870: FutureWarning: The default value of `n_init` will change from 10 to 'auto' in 1.4. Set the value of `n_init` explicitly to suppress the warning\n",
      "  warnings.warn(\n",
      "C:\\Users\\johan\\anaconda3\\lib\\site-packages\\sklearn\\cluster\\_kmeans.py:870: FutureWarning: The default value of `n_init` will change from 10 to 'auto' in 1.4. Set the value of `n_init` explicitly to suppress the warning\n",
      "  warnings.warn(\n",
      "C:\\Users\\johan\\anaconda3\\lib\\site-packages\\sklearn\\cluster\\_kmeans.py:870: FutureWarning: The default value of `n_init` will change from 10 to 'auto' in 1.4. Set the value of `n_init` explicitly to suppress the warning\n",
      "  warnings.warn(\n",
      "C:\\Users\\johan\\anaconda3\\lib\\site-packages\\sklearn\\cluster\\_kmeans.py:870: FutureWarning: The default value of `n_init` will change from 10 to 'auto' in 1.4. Set the value of `n_init` explicitly to suppress the warning\n",
      "  warnings.warn(\n",
      "C:\\Users\\johan\\anaconda3\\lib\\site-packages\\sklearn\\cluster\\_kmeans.py:870: FutureWarning: The default value of `n_init` will change from 10 to 'auto' in 1.4. Set the value of `n_init` explicitly to suppress the warning\n",
      "  warnings.warn(\n",
      "C:\\Users\\johan\\anaconda3\\lib\\site-packages\\sklearn\\cluster\\_kmeans.py:870: FutureWarning: The default value of `n_init` will change from 10 to 'auto' in 1.4. Set the value of `n_init` explicitly to suppress the warning\n",
      "  warnings.warn(\n",
      "C:\\Users\\johan\\anaconda3\\lib\\site-packages\\sklearn\\cluster\\_kmeans.py:870: FutureWarning: The default value of `n_init` will change from 10 to 'auto' in 1.4. Set the value of `n_init` explicitly to suppress the warning\n",
      "  warnings.warn(\n",
      "C:\\Users\\johan\\anaconda3\\lib\\site-packages\\sklearn\\cluster\\_kmeans.py:870: FutureWarning: The default value of `n_init` will change from 10 to 'auto' in 1.4. Set the value of `n_init` explicitly to suppress the warning\n",
      "  warnings.warn(\n",
      "C:\\Users\\johan\\anaconda3\\lib\\site-packages\\sklearn\\cluster\\_kmeans.py:870: FutureWarning: The default value of `n_init` will change from 10 to 'auto' in 1.4. Set the value of `n_init` explicitly to suppress the warning\n",
      "  warnings.warn(\n",
      "C:\\Users\\johan\\anaconda3\\lib\\site-packages\\sklearn\\cluster\\_kmeans.py:870: FutureWarning: The default value of `n_init` will change from 10 to 'auto' in 1.4. Set the value of `n_init` explicitly to suppress the warning\n",
      "  warnings.warn(\n",
      "C:\\Users\\johan\\anaconda3\\lib\\site-packages\\sklearn\\cluster\\_kmeans.py:870: FutureWarning: The default value of `n_init` will change from 10 to 'auto' in 1.4. Set the value of `n_init` explicitly to suppress the warning\n",
      "  warnings.warn(\n",
      "C:\\Users\\johan\\anaconda3\\lib\\site-packages\\sklearn\\cluster\\_kmeans.py:870: FutureWarning: The default value of `n_init` will change from 10 to 'auto' in 1.4. Set the value of `n_init` explicitly to suppress the warning\n",
      "  warnings.warn(\n",
      "C:\\Users\\johan\\anaconda3\\lib\\site-packages\\sklearn\\cluster\\_kmeans.py:870: FutureWarning: The default value of `n_init` will change from 10 to 'auto' in 1.4. Set the value of `n_init` explicitly to suppress the warning\n",
      "  warnings.warn(\n",
      "C:\\Users\\johan\\anaconda3\\lib\\site-packages\\sklearn\\cluster\\_kmeans.py:870: FutureWarning: The default value of `n_init` will change from 10 to 'auto' in 1.4. Set the value of `n_init` explicitly to suppress the warning\n",
      "  warnings.warn(\n",
      "C:\\Users\\johan\\anaconda3\\lib\\site-packages\\sklearn\\cluster\\_kmeans.py:870: FutureWarning: The default value of `n_init` will change from 10 to 'auto' in 1.4. Set the value of `n_init` explicitly to suppress the warning\n",
      "  warnings.warn(\n",
      "C:\\Users\\johan\\anaconda3\\lib\\site-packages\\sklearn\\cluster\\_kmeans.py:870: FutureWarning: The default value of `n_init` will change from 10 to 'auto' in 1.4. Set the value of `n_init` explicitly to suppress the warning\n",
      "  warnings.warn(\n"
     ]
    },
    {
     "data": {
      "text/plain": "<Figure size 1200x600 with 1 Axes>",
      "image/png": "[encoded data removed]"
     },
     "metadata": {},
     "output_type": "display_data"
    }
   ],
   "source": [
    "clusters_centers, k_values = find_best_clusters(scaled_data, 30)\n",
    "\n",
    "generate_elbow_plot(clusters_centers, k_values)"
   ],
   "metadata": {
    "collapsed": false,
    "ExecuteTime": {
     "end_time": "2023-05-21T11:26:05.469060Z",
     "start_time": "2023-05-21T11:25:35.243303100Z"
    }
   }
  },
  {
   "cell_type": "code",
   "execution_count": 26,
   "outputs": [
    {
     "name": "stderr",
     "output_type": "stream",
     "text": [
      "C:\\Users\\johan\\anaconda3\\lib\\site-packages\\sklearn\\cluster\\_kmeans.py:870: FutureWarning: The default value of `n_init` will change from 10 to 'auto' in 1.4. Set the value of `n_init` explicitly to suppress the warning\n",
      "  warnings.warn(\n"
     ]
    },
    {
     "data": {
      "text/plain": "KMeans(n_clusters=12)",
      "text/html": "<style>#sk-container-id-1 {color: black;background-color: white;}#sk-container-id-1 pre{padding: 0;}#sk-container-id-1 div.sk-toggleable {background-color: white;}#sk-container-id-1 label.sk-toggleable__label {cursor: pointer;display: block;width: 100%;margin-bottom: 0;padding: 0.3em;box-sizing: border-box;text-align: center;}#sk-container-id-1 label.sk-toggleable__label-arrow:before {content: \"▸\";float: left;margin-right: 0.25em;color: #696969;}#sk-container-id-1 label.sk-toggleable__label-arrow:hover:before {color: black;}#sk-container-id-1 div.sk-estimator:hover label.sk-toggleable__label-arrow:before {color: black;}#sk-container-id-1 div.sk-toggleable__content {max-height: 0;max-width: 0;overflow: hidden;text-align: left;background-color: #f0f8ff;}#sk-container-id-1 div.sk-toggleable__content pre {margin: 0.2em;color: black;border-radius: 0.25em;background-color: #f0f8ff;}#sk-container-id-1 input.sk-toggleable__control:checked~div.sk-toggleable__content {max-height: 200px;max-width: 100%;overflow: auto;}#sk-container-id-1 input.sk-toggleable__control:checked~label.sk-toggleable__label-arrow:before {content: \"▾\";}#sk-container-id-1 div.sk-estimator input.sk-toggleable__control:checked~label.sk-toggleable__label {background-color: #d4ebff;}#sk-container-id-1 div.sk-label input.sk-toggleable__control:checked~label.sk-toggleable__label {background-color: #d4ebff;}#sk-container-id-1 input.sk-hidden--visually {border: 0;clip: rect(1px 1px 1px 1px);clip: rect(1px, 1px, 1px, 1px);height: 1px;margin: -1px;overflow: hidden;padding: 0;position: absolute;width: 1px;}#sk-container-id-1 div.sk-estimator {font-family: monospace;background-color: #f0f8ff;border: 1px dotted black;border-radius: 0.25em;box-sizing: border-box;margin-bottom: 0.5em;}#sk-container-id-1 div.sk-estimator:hover {background-color: #d4ebff;}#sk-container-id-1 div.sk-parallel-item::after {content: \"\";width: 100%;border-bottom: 1px solid gray;flex-grow: 1;}#sk-container-id-1 div.sk-label:hover label.sk-toggleable__label {background-color: #d4ebff;}#sk-container-id-1 div.sk-serial::before {content: \"\";position: absolute;border-left: 1px solid gray;box-sizing: border-box;top: 0;bottom: 0;left: 50%;z-index: 0;}#sk-container-id-1 div.sk-serial {display: flex;flex-direction: column;align-items: center;background-color: white;padding-right: 0.2em;padding-left: 0.2em;position: relative;}#sk-container-id-1 div.sk-item {position: relative;z-index: 1;}#sk-container-id-1 div.sk-parallel {display: flex;align-items: stretch;justify-content: center;background-color: white;position: relative;}#sk-container-id-1 div.sk-item::before, #sk-container-id-1 div.sk-parallel-item::before {content: \"\";position: absolute;border-left: 1px solid gray;box-sizing: border-box;top: 0;bottom: 0;left: 50%;z-index: -1;}#sk-container-id-1 div.sk-parallel-item {display: flex;flex-direction: column;z-index: 1;position: relative;background-color: white;}#sk-container-id-1 div.sk-parallel-item:first-child::after {align-self: flex-end;width: 50%;}#sk-container-id-1 div.sk-parallel-item:last-child::after {align-self: flex-start;width: 50%;}#sk-container-id-1 div.sk-parallel-item:only-child::after {width: 0;}#sk-container-id-1 div.sk-dashed-wrapped {border: 1px dashed gray;margin: 0 0.4em 0.5em 0.4em;box-sizing: border-box;padding-bottom: 0.4em;background-color: white;}#sk-container-id-1 div.sk-label label {font-family: monospace;font-weight: bold;display: inline-block;line-height: 1.2em;}#sk-container-id-1 div.sk-label-container {text-align: center;}#sk-container-id-1 div.sk-container {/* jupyter's `normalize.less` sets `[hidden] { display: none; }` but bootstrap.min.css set `[hidden] { display: none !important; }` so we also need the `!important` here to be able to override the default hidden behavior on the sphinx rendered scikit-learn.org. See: https://github.com/scikit-learn/scikit-learn/issues/21755 */display: inline-block !important;position: relative;}#sk-container-id-1 div.sk-text-repr-fallback {display: none;}</style><div id=\"sk-container-id-1\" class=\"sk-top-container\"><div class=\"sk-text-repr-fallback\"><pre>KMeans(n_clusters=12)</pre><b>In a Jupyter environment, please rerun this cell to show the HTML representation or trust the notebook. <br />On GitHub, the HTML representation is unable to render, please try loading this page with nbviewer.org.</b></div><div class=\"sk-container\" hidden><div class=\"sk-item\"><div class=\"sk-estimator sk-toggleable\"><input class=\"sk-toggleable__control sk-hidden--visually\" id=\"sk-estimator-id-1\" type=\"checkbox\" checked><label for=\"sk-estimator-id-1\" class=\"sk-toggleable__label sk-toggleable__label-arrow\">KMeans</label><div class=\"sk-toggleable__content\"><pre>KMeans(n_clusters=12)</pre></div></div></div></div></div>"
     },
     "execution_count": 26,
     "metadata": {},
     "output_type": "execute_result"
    }
   ],
   "source": [
    "kmeans_model = KMeans(n_clusters = 12)\n",
    "\n",
    "kmeans_model.fit(scaled_data)"
   ],
   "metadata": {
    "collapsed": false,
    "ExecuteTime": {
     "end_time": "2023-05-21T11:27:30.216821400Z",
     "start_time": "2023-05-21T11:27:29.272551400Z"
    }
   }
  },
  {
   "cell_type": "code",
   "execution_count": 27,
   "outputs": [
    {
     "name": "stderr",
     "output_type": "stream",
     "text": [
      "C:\\Users\\johan\\AppData\\Local\\Temp\\ipykernel_16300\\3012768525.py:1: SettingWithCopyWarning: \n",
      "A value is trying to be set on a copy of a slice from a DataFrame.\n",
      "Try using .loc[row_indexer,col_indexer] = value instead\n",
      "\n",
      "See the caveats in the documentation: https://pandas.pydata.org/pandas-docs/stable/user_guide/indexing.html#returning-a-view-versus-a-copy\n",
      "  df_test['target'] =  kmeans_model.labels_\n"
     ]
    }
   ],
   "source": [
    "df_test['target'] =  kmeans_model.labels_"
   ],
   "metadata": {
    "collapsed": false,
    "ExecuteTime": {
     "end_time": "2023-05-21T11:28:35.046445900Z",
     "start_time": "2023-05-21T11:28:35.025258400Z"
    }
   }
  },
  {
   "cell_type": "code",
   "execution_count": 28,
   "outputs": [],
   "source": [
    "#maybe delete audiobooks. we will see\n",
    "non_v = list(df_join[df_join.speechiness >= 0.93]['playlist'].unique())"
   ],
   "metadata": {
    "collapsed": false,
    "ExecuteTime": {
     "end_time": "2023-05-21T11:28:51.860264500Z",
     "start_time": "2023-05-21T11:28:51.838773500Z"
    }
   }
  },
  {
   "cell_type": "code",
   "execution_count": 459,
   "outputs": [],
   "source": [
    "def save_df_to_csv(df_join, df_test):\n",
    "    df_join.to_csv('Joined.csv',index=False)\n",
    "    df_test.to_csv('test.csv',index=False)"
   ],
   "metadata": {
    "collapsed": false,
    "ExecuteTime": {
     "start_time": "2023-05-13T16:18:29.290676Z",
     "end_time": "2023-05-13T16:18:29.300052Z"
    }
   }
  },
  {
   "cell_type": "code",
   "execution_count": 460,
   "outputs": [],
   "source": [
    "save_df_to_csv(df_join, df_test)"
   ],
   "metadata": {
    "collapsed": false,
    "ExecuteTime": {
     "start_time": "2023-05-13T16:18:36.009032Z",
     "end_time": "2023-05-13T16:18:38.914496Z"
    }
   }
  },
  {
   "cell_type": "markdown",
   "source": [
    "## Normalize dataset"
   ],
   "metadata": {
    "collapsed": false
   }
  },
  {
   "cell_type": "code",
   "execution_count": 29,
   "outputs": [],
   "source": [
    "def get_normalized_X_y(df_test):\n",
    "    df_test.dropna(inplace=True)\n",
    "    scaler = StandardScaler()\n",
    "    scaler.fit(df_test.drop('target', axis=1))\n",
    "    scaled_features = scaler.transform(df_test.drop('target',axis=1))\n",
    "    df_test_feat = pd.DataFrame(scaled_features, columns = df_test.columns[:-1])\n",
    "    y = df_test.iloc[:,-1].squeeze()\n",
    "    X = df_test_feat\n",
    "    return X, y"
   ],
   "metadata": {
    "collapsed": false,
    "ExecuteTime": {
     "end_time": "2023-05-21T11:29:03.962619600Z",
     "start_time": "2023-05-21T11:29:03.950618800Z"
    }
   }
  },
  {
   "cell_type": "code",
   "execution_count": 30,
   "outputs": [
    {
     "name": "stderr",
     "output_type": "stream",
     "text": [
      "C:\\Users\\johan\\AppData\\Local\\Temp\\ipykernel_16300\\3585950954.py:2: SettingWithCopyWarning: \n",
      "A value is trying to be set on a copy of a slice from a DataFrame\n",
      "\n",
      "See the caveats in the documentation: https://pandas.pydata.org/pandas-docs/stable/user_guide/indexing.html#returning-a-view-versus-a-copy\n",
      "  df_test.dropna(inplace=True)\n"
     ]
    }
   ],
   "source": [
    "X,y = get_normalized_X_y(df_test)"
   ],
   "metadata": {
    "collapsed": false,
    "ExecuteTime": {
     "end_time": "2023-05-21T11:29:04.714629200Z",
     "start_time": "2023-05-21T11:29:04.680632300Z"
    }
   }
  },
  {
   "cell_type": "code",
   "execution_count": 31,
   "outputs": [
    {
     "data": {
      "text/plain": "((23478, 9), (7827, 9), (23478,), (7827,))"
     },
     "execution_count": 31,
     "metadata": {},
     "output_type": "execute_result"
    }
   ],
   "source": [
    "def train_test_data (X,y):\n",
    "    X_train, X_test, y_train, y_test = train_test_split(X, y, test_size=0.25, random_state=42)\n",
    "\n",
    "    return  X_train, X_test, y_train, y_test\n",
    "\n",
    "X_train, X_test, y_train, y_test = train_test_data(X,y)\n",
    "\n",
    "X_train.shape,X_test.shape, y_train.shape, y_test.shape"
   ],
   "metadata": {
    "collapsed": false,
    "ExecuteTime": {
     "end_time": "2023-05-21T11:29:13.616914Z",
     "start_time": "2023-05-21T11:29:13.602914600Z"
    }
   }
  },
  {
   "cell_type": "code",
   "execution_count": 32,
   "outputs": [],
   "source": [
    "def knn_trainer(X_train, y_train, n):\n",
    "    knn = KNeighborsClassifier(n_neighbors=n)\n",
    "\n",
    "    knn.fit(X_train, y_train)\n",
    "\n",
    "    return knn\n",
    "knn = knn_trainer(X_train, y_train, n= 7)"
   ],
   "metadata": {
    "collapsed": false,
    "ExecuteTime": {
     "end_time": "2023-05-21T11:29:18.538488Z",
     "start_time": "2023-05-21T11:29:18.497467600Z"
    }
   }
  },
  {
   "cell_type": "markdown",
   "source": [
    "### Create Pickle File"
   ],
   "metadata": {
    "collapsed": false
   }
  },
  {
   "cell_type": "code",
   "execution_count": 456,
   "outputs": [],
   "source": [
    "def create_pickle(knn):\n",
    "    knnPickle = open('knn_pickle_file', 'wb')\n",
    "    pickle.dump(knn, knnPickle)\n",
    "    knnPickle.close()"
   ],
   "metadata": {
    "collapsed": false,
    "ExecuteTime": {
     "start_time": "2023-05-13T16:10:05.606729Z",
     "end_time": "2023-05-13T16:10:05.653148Z"
    }
   }
  },
  {
   "cell_type": "code",
   "execution_count": 458,
   "outputs": [],
   "source": [
    "create_pickle(knn)"
   ],
   "metadata": {
    "collapsed": false,
    "ExecuteTime": {
     "start_time": "2023-05-13T16:10:51.764468Z",
     "end_time": "2023-05-13T16:10:51.780123Z"
    }
   }
  },
  {
   "cell_type": "markdown",
   "source": [
    "### Stuff for Testing"
   ],
   "metadata": {
    "collapsed": false
   }
  },
  {
   "cell_type": "code",
   "execution_count": 454,
   "outputs": [],
   "source": [
    "knnPickle = open('knn_pickle_file', 'wb')"
   ],
   "metadata": {
    "collapsed": false
   }
  },
  {
   "cell_type": "code",
   "execution_count": 455,
   "outputs": [],
   "source": [
    "# source, destination\n",
    "pickle.dump(knn, knnPickle)\n",
    "\n",
    "# close the file\n",
    "knnPickle.close()"
   ],
   "metadata": {
    "collapsed": false
   }
  },
  {
   "cell_type": "code",
   "execution_count": 449,
   "outputs": [
    {
     "data": {
      "text/plain": "array([40., 40., 40., ..., 40., 40., 40.])"
     },
     "execution_count": 449,
     "metadata": {},
     "output_type": "execute_result"
    }
   ],
   "source": [
    "knn.predict(X_test)"
   ],
   "metadata": {
    "collapsed": false
   }
  },
  {
   "cell_type": "code",
   "execution_count": 450,
   "outputs": [
    {
     "data": {
      "text/plain": "0.9063498147438355"
     },
     "execution_count": 450,
     "metadata": {},
     "output_type": "execute_result"
    }
   ],
   "source": [
    "knn.score(X_test, y_test)"
   ],
   "metadata": {
    "collapsed": false
   }
  },
  {
   "cell_type": "code",
   "execution_count": 33,
   "outputs": [],
   "source": [
    "a = []\n",
    "\n",
    "for n in range(1,50):\n",
    "    knn = knn_trainer(X_train, y_train,n)\n",
    "    i = knn.score(X_test, y_test)\n",
    "    a.append(i)"
   ],
   "metadata": {
    "collapsed": false,
    "ExecuteTime": {
     "end_time": "2023-05-21T11:30:00.057687600Z",
     "start_time": "2023-05-21T11:29:28.870717300Z"
    }
   }
  },
  {
   "cell_type": "code",
   "execution_count": 41,
   "outputs": [
    {
     "data": {
      "text/plain": "<Axes: >"
     },
     "execution_count": 41,
     "metadata": {},
     "output_type": "execute_result"
    },
    {
     "data": {
      "text/plain": "<Figure size 640x480 with 1 Axes>",
      "image/png": "[encoded data removed]"
     },
     "metadata": {},
     "output_type": "display_data"
    }
   ],
   "source": [
    "pd.DataFrame(a).plot()"
   ],
   "metadata": {
    "collapsed": false,
    "ExecuteTime": {
     "end_time": "2023-05-21T11:32:32.639863200Z",
     "start_time": "2023-05-21T11:32:32.466484900Z"
    }
   }
  },
  {
   "cell_type": "markdown",
   "source": [
    "Take n = 20 as knn Classifier"
   ],
   "metadata": {
    "collapsed": false
   }
  },
  {
   "cell_type": "code",
   "execution_count": null,
   "outputs": [],
   "source": [],
   "metadata": {
    "collapsed": false
   }
  }
 ],
 "metadata": {
  "kernelspec": {
   "display_name": "Python 3",
   "language": "python",
   "name": "python3"
  },
  "language_info": {
   "codemirror_mode": {
    "name": "ipython",
    "version": 2
   },
   "file_extension": ".py",
   "mimetype": "text/x-python",
   "name": "python",
   "nbconvert_exporter": "python",
   "pygments_lexer": "ipython2",
   "version": "2.7.6"
  }
 },
 "nbformat": 4,
 "nbformat_minor": 0
}
